{
 "cells": [
  {
   "cell_type": "code",
   "execution_count": 6,
   "id": "c691c94e-6a5a-4606-b451-908510aa5823",
   "metadata": {
    "tags": []
   },
   "outputs": [],
   "source": [
    "# Dependencies\n",
    "import requests\n",
    "import pandas as pd\n",
    "import json\n",
    "from attomapi import apikey\n"
   ]
  },
  {
   "cell_type": "code",
   "execution_count": 9,
   "id": "b9e2da50-e4f4-4cae-be6b-aadac3e52ae3",
   "metadata": {
    "tags": []
   },
   "outputs": [
    {
     "name": "stdout",
     "output_type": "stream",
     "text": [
      "{\n",
      "    \"status\": {\n",
      "        \"version\": \"1.0.0\",\n",
      "        \"code\": 0,\n",
      "        \"msg\": \"SuccessWithResult\",\n",
      "        \"total\": 1,\n",
      "        \"page\": 1,\n",
      "        \"pagesize\": 100,\n",
      "        \"transactionID\": \"6f463f41cb034e9784cf96fbf390c079\"\n",
      "    },\n",
      "    \"property\": [\n",
      "        {\n",
      "            \"identifier\": {\n",
      "                \"Id\": 328226049,\n",
      "                \"fips\": \"48453\",\n",
      "                \"apn\": \"0332381704\",\n",
      "                \"attomId\": 328226049\n",
      "            },\n",
      "            \"lot\": {\n",
      "                \"lotSize1\": 0.1100092\n",
      "            },\n",
      "            \"address\": {\n",
      "                \"country\": \"US\",\n",
      "                \"countrySubd\": \"TX\",\n",
      "                \"line1\": \"6509 CONESTOGA WAGON WAY\",\n",
      "                \"line2\": \"DEL VALLE, TX 78617\",\n",
      "                \"locality\": \"DEL VALLE\",\n",
      "                \"matchCode\": \"ExaStr\",\n",
      "                \"oneLine\": \"6509 CONESTOGA WAGON WAY, DEL VALLE, TX 78617\",\n",
      "                \"postal1\": \"78617\",\n",
      "                \"postal2\": \"2037\",\n",
      "                \"postal3\": \"R010\"\n",
      "            },\n",
      "            \"location\": {\n",
      "                \"accuracy\": \"Rooftop\",\n",
      "                \"latitude\": \"30.163154\",\n",
      "                \"longitude\": \"-97.634327\",\n",
      "                \"distance\": 0.0,\n",
      "                \"geoid\": \"CO48453, CS4890165, DB4816620, SB0000119930, SB0000119931, SB0000119937, ZI78617\",\n",
      "                \"geoIdV4\": {\n",
      "                    \"CO\": \"1ac3868c36cd18fae9b5b3300e6f5383\",\n",
      "                    \"CS\": \"d07a0cf10823b391a46adc4090df57f0\",\n",
      "                    \"DB\": \"bb2d2deecc86872549ee9d28fdfcacce\",\n",
      "                    \"SB\": \"eebacad01910f2185c1d0b5e7fe376ac,a0110c894807b90af1f5fbe28f4129a8,fcf99c506b72999a41e771369101b0e8\",\n",
      "                    \"ZI\": \"795b59cb39df5e5cdf0d1d24884d71e5\"\n",
      "                }\n",
      "            },\n",
      "            \"summary\": {\n",
      "                \"propclass\": \"Single Family Residence / Townhouse\",\n",
      "                \"propsubtype\": \"Residential\",\n",
      "                \"proptype\": \"RESIDENTIAL (NEC)\",\n",
      "                \"propertyType\": \"MISCELLANEOUS (RESIDENTIAL)\",\n",
      "                \"yearbuilt\": 2020,\n",
      "                \"propLandUse\": \"RESIDENTIAL (NEC)\",\n",
      "                \"propIndicator\": \"10\"\n",
      "            },\n",
      "            \"building\": {\n",
      "                \"size\": {\n",
      "                    \"universalsize\": 1352\n",
      "                },\n",
      "                \"rooms\": {\n",
      "                    \"bathstotal\": 2.0,\n",
      "                    \"beds\": 3\n",
      "                }\n",
      "            },\n",
      "            \"vintage\": {\n",
      "                \"lastModified\": \"2023-03-17\",\n",
      "                \"pubDate\": \"2023-03-17\"\n",
      "            },\n",
      "            \"sale\": {\n",
      "                \"salesearchdate\": \"2021-03-12\",\n",
      "                \"saleTransDate\": \"2021-03-04\",\n",
      "                \"amount\": {\n",
      "                    \"saleamt\": 324986,\n",
      "                    \"salerecdate\": \"2021-03-12\",\n",
      "                    \"saledisclosuretype\": 1,\n",
      "                    \"saledocnum\": \"0000053388\",\n",
      "                    \"saletranstype\": \"Resale\"\n",
      "                },\n",
      "                \"calculation\": {\n",
      "                    \"priceperbed\": 108328,\n",
      "                    \"pricepersizeunit\": 240.37\n",
      "                },\n",
      "                \"vintage\": {\n",
      "                    \"lastModified\": \"2023-03-17\"\n",
      "                }\n",
      "            }\n",
      "        }\n",
      "    ]\n",
      "}\n"
     ]
    }
   ],
   "source": [
    "import http.client \n",
    "\n",
    "conn = http.client.HTTPSConnection(\"api.gateway.attomdata.com\") \n",
    "\n",
    "headers = { \n",
    "    'accept': \"application/json\", \n",
    "    'apikey': \"11003cf2f1787f8d42bfcf96177f9b43\", \n",
    "    } \n",
    "\n",
    "conn.request(\"GET\", \"https://api.gateway.attomdata.com/propertyapi/v1.0.0/sale/snapshot?startSaleSearchDate=2020/01/01&endSaleSearchDate=2022/12/31&postalcode=78617&minBeds=1&maxBeds=3&propertytype=RESIDENTIAL%20(NEC)&minuniversalsize=0&maxuniversalsize=1500&page=1&pagesize=100&orderBy=saleAmt+desc\", headers=headers) \n",
    "\n",
    "\n",
    "res = conn.getresponse() \n",
    "data = res.read() \n",
    "\n",
    "data_dict = json.loads(data.decode('utf-8'))\n",
    "\n",
    "# Pretty print the Python dictionary\n",
    "print(json.dumps(data_dict, indent=4))"
   ]
  },
  {
   "cell_type": "code",
   "execution_count": 3,
   "id": "c9788250-4c32-484b-b741-294e5f1ed898",
   "metadata": {
    "tags": []
   },
   "outputs": [
    {
     "ename": "KeyError",
     "evalue": "'area'",
     "output_type": "error",
     "traceback": [
      "\u001b[0;31m---------------------------------------------------------------------------\u001b[0m",
      "\u001b[0;31mKeyError\u001b[0m                                  Traceback (most recent call last)",
      "Cell \u001b[0;32mIn[3], line 3\u001b[0m\n\u001b[1;32m      1\u001b[0m \u001b[38;5;66;03m# Convert the data to a DataFrame\u001b[39;00m\n\u001b[1;32m      2\u001b[0m propertydata \u001b[38;5;241m=\u001b[39m {\n\u001b[0;32m----> 3\u001b[0m     \u001b[38;5;124m'\u001b[39m\u001b[38;5;124mProperty type\u001b[39m\u001b[38;5;124m'\u001b[39m:\u001b[43mdata_dict\u001b[49m\u001b[43m[\u001b[49m\u001b[38;5;124;43m\"\u001b[39;49m\u001b[38;5;124;43marea\u001b[39;49m\u001b[38;5;124;43m\"\u001b[39;49m\u001b[43m]\u001b[49m[\u001b[38;5;241m1\u001b[39m],\n\u001b[1;32m      4\u001b[0m    \u001b[38;5;66;03m#'Property type':data_dict[\"property\"][\"lots\"][\"zoningType\"],\u001b[39;00m\n\u001b[1;32m      5\u001b[0m     \u001b[38;5;66;03m#'Bedrooms':data_dict[\"property\"][1],\u001b[39;00m\n\u001b[1;32m      6\u001b[0m     \u001b[38;5;66;03m#'Address':data_dict[\"property\"][\"address\"][\"oneLine\"],\u001b[39;00m\n\u001b[1;32m      7\u001b[0m     \u001b[38;5;66;03m#'City', data_dict[\"property\"][1],\u001b[39;00m\n\u001b[1;32m      8\u001b[0m     \u001b[38;5;66;03m#'State', data_dict[\"property\"][1],\u001b[39;00m\n\u001b[1;32m      9\u001b[0m     }\n\u001b[1;32m     11\u001b[0m \u001b[38;5;66;03m# Convert the dictionary to a DataFrame\u001b[39;00m\n\u001b[1;32m     12\u001b[0m df \u001b[38;5;241m=\u001b[39m pd\u001b[38;5;241m.\u001b[39mDataFrame(propertydata)\n",
      "\u001b[0;31mKeyError\u001b[0m: 'area'"
     ]
    }
   ],
   "source": [
    "# Convert the data to a DataFrame\n",
    "propertydata = {\n",
    "    'Property type':data_dict[\"area\"][1],\n",
    "   #'Property type':data_dict[\"property\"][\"lots\"][\"zoningType\"],\n",
    "    #'Bedrooms':data_dict[\"property\"][1],\n",
    "    #'Address':data_dict[\"property\"][\"address\"][\"oneLine\"],\n",
    "    #'City', data_dict[\"property\"][1],\n",
    "    #'State', data_dict[\"property\"][1],\n",
    "    }\n",
    "\n",
    "# Convert the dictionary to a DataFrame\n",
    "df = pd.DataFrame(propertydata)\n",
    "df"
   ]
  },
  {
   "cell_type": "code",
   "execution_count": null,
   "id": "5568a783-da70-4aee-ad29-2ed2d5c55b9b",
   "metadata": {},
   "outputs": [],
   "source": []
  },
  {
   "cell_type": "code",
   "execution_count": null,
   "id": "f0e78772-7fda-454a-9e54-9208f2d13b94",
   "metadata": {},
   "outputs": [],
   "source": []
  }
 ],
 "metadata": {
  "kernelspec": {
   "display_name": "Python [conda env:dev] *",
   "language": "python",
   "name": "conda-env-dev-py"
  },
  "language_info": {
   "codemirror_mode": {
    "name": "ipython",
    "version": 3
   },
   "file_extension": ".py",
   "mimetype": "text/x-python",
   "name": "python",
   "nbconvert_exporter": "python",
   "pygments_lexer": "ipython3",
   "version": "3.10.12"
  }
 },
 "nbformat": 4,
 "nbformat_minor": 5
}
