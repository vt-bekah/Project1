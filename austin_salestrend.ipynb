{
 "cells": [
  {
   "cell_type": "code",
   "execution_count": 6,
   "id": "c691c94e-6a5a-4606-b451-908510aa5823",
   "metadata": {
    "tags": []
   },
   "outputs": [],
   "source": [
    "# Dependencies\n",
    "import requests\n",
    "import pandas as pd\n",
    "import json\n",
    "from pathlib import Path \n",
    "from attomapi import apikey\n",
    "# for use with random delays\n",
    "import time\n",
    "import random\n",
    "\n",
    "city_zips = {\"Chicago\": [60007, 60018, 60068, 60106, 60131, 60176, 60601, 60602, 60603, 60604, 60605, 60606, 60607, 60608, 60609, 60610, 60611, 60612, 60613, 60614, 60615, 60616, 60617, 60618, 60619, 60620, 60621, 60622, 60623, 60624, 60625, 60626, 60628, 60629, 60630, 60631, 60632, 60633, 60634, 60636, 60637, 60638, 60639, 60640, 60641, 60642, 60643, 60644, 60645, 60646, 60647, 60649, 60651, 60652, 60653, 60654, 60655, 60656, 60657, 60659, 60660, 60661, 60706, 60707, 60714, 60804, 60827], \n",
    "             \"Denver\": [80012, 80014, 80022, 80033, 80123, 80127, 80201, 80202, 80203, 80204, 80205, 80206, 80207, 80208, 80209, 80210, 80211, 80212, 80214, 80215, 80216, 80217, 80218, 80219, 80220, 80221, 80222, 80223, 80224, 80225, 80226, 80227, 80228, 80229, 80230, 80231, 80232, 80233, 80234, 80235, 80236, 80237, 80238, 80239, 80241, 80243, 80244, 80246, 80247, 80248, 80249, 80250, 80256, 80257, 80259, 80260, 80261, 80263, 80264, 80265, 80266, 80271, 80273, 80274, 80281, 80290, 80291, 80293, 80294, 80299], \n",
    "             \"Memphis\": [38103, 38104, 38105, 38106, 38107, 38108, 38109, 38111, 38112, 38117, 38125, 38126, 38127, 38128, 38133, 38134, 38135, 38138, 38139, 38141, 38017, 38002, 38016, 38018, 38028, 38066, 38060], \n",
    "             \"New York\": [10001, 10002, 10003, 10004, 10005, 10006, 10007, 10009, 10010, 10011, 10012, 10013, 10014, 10016, 10017, 10018, 10019, 10020, 10021, 10022, 10023, 10024, 10025, 10026, 10027, 10028, 10029, 10030, 10031, 10032, 10033, 10034, 10035, 10036, 10037, 10038, 10039, 10040, 10044, 10065, 10069, 10075, 10103, 10110, 10111, 10112, 10115, 10119, 10128, 10152, 10153, 10154, 10162, 10165, 10167, 10168, 10169, 10170, 10171, 10172, 10173, 10174, 10177, 10199, 10271, 10278, 10279, 10280, 10282, 10301, 10302, 10303, 10304, 10305, 10306, 10307, 10308, 10309, 10310, 10311, 10312, 10314, 10451, 10452, 10453, 10454, 10455, 10456, 10457, 10458, 10459, 10460, 10461, 10462, 10463, 10464, 10465, 10466, 10467, 10468, 10469, 10470, 10471, 10472, 10473, 10474, 10475, 11001, 11003, 11004, 11005, 11040, 11101, 11102, 11103, 11104, 11105, 11106, 11109, 11201, 11203, 11204, 11205, 11206, 11207, 11208, 11209, 11210, 11211, 11212, 11213, 11214, 11215, 11216, 11217, 11218, 11219, 11220, 11221, 11222, 11223, 11224, 11225, 11226, 11228, 11229, 11230, 11231, 11232, 11233, 11234, 11235, 11236, 11237, 11238, 11239, 11351, 11354, 11355, 11356, 11357, 11358, 11359, 11360, 11361, 11362, 11363, 11364, 11365, 11366, 11367, 11368, 11369, 11370, 11371, 11372, 11373, 11374, 11375, 11377, 11378, 11379, 11385, 11411, 11412, 11413, 11414, 11415, 11416, 11417, 11418, 11419, 11420, 11421, 11422, 11423, 11424, 11425, 11426, 11427, 11428, 11429, 11430, 11432, 11433, 11434, 11435, 11436, 11451, 11691, 11692, 11693, 11694, 11697], \n",
    "             \"San Francisco\": [94102, 94103, 94104, 94105, 94107, 94108, 94109, 94110, 94111, 94112, 94114, 94115, 94116, 94117, 94118, 94121, 94122, 94123, 94124, 94127, 94128, 94129, 94130, 94131, 94132, 94133, 94134, 94141, 94143, 94158, 94188]\n",
    "            }"
   ]
  },
  {
   "cell_type": "code",
   "execution_count": null,
   "id": "aa15472e-4184-468f-bf7b-724208674559",
   "metadata": {},
   "outputs": [],
   "source": [
    "# Using delayed for loop to pull data within the free API usage requirements \n",
    "# this takes a while so save to file for use later\n",
    "\n",
    "for city in city_zips:\n",
    "    zips = city_zips[city]\n",
    "    file = Path(\"resources/data_\"+city+\".txt\")\n",
    "    with open(file, 'w') as convert_file:\n",
    "        convert_file.write(json.dumps(zips))\n",
    "        for z in zips:\n",
    "            conn.request(\"GET\", \"https://api.gateway.attomdata.com/propertyapi/v1.0.0/sale/snapshot?startSaleSearchDate=2020/01/01&endSaleSearchDate=2022/12/31&postalcode=\"+str(z)+\"&minBeds=1&maxBeds=3&propertytype=RESIDENTIAL%20(NEC)&minuniversalsize=0&maxuniversalsize=1500&page=1&pagesize=100&orderBy=saleAmt+desc\", headers=headers)\n",
    "            res = conn.getresponse()\n",
    "            print(res)\n",
    "            data = res.read()\n",
    "            data_ny = json.loads(data.decode('utf-8'))\n",
    "            convert_file.write(json.dumps(data_ny))\n",
    "            # set random int 7-9 (in case they don't want automated...)\n",
    "            r = random.randrange(7,10)\n",
    "            # delay for the random time (s) frame\n",
    "            time.sleep(r)"
   ]
  },
  {
   "cell_type": "code",
   "execution_count": 9,
   "id": "b9e2da50-e4f4-4cae-be6b-aadac3e52ae3",
   "metadata": {
    "tags": []
   },
   "outputs": [
    {
     "name": "stdout",
     "output_type": "stream",
     "text": [
      "{\n",
      "    \"status\": {\n",
      "        \"version\": \"1.0.0\",\n",
      "        \"code\": 0,\n",
      "        \"msg\": \"SuccessWithResult\",\n",
      "        \"total\": 1,\n",
      "        \"page\": 1,\n",
      "        \"pagesize\": 100,\n",
      "        \"transactionID\": \"6f463f41cb034e9784cf96fbf390c079\"\n",
      "    },\n",
      "    \"property\": [\n",
      "        {\n",
      "            \"identifier\": {\n",
      "                \"Id\": 328226049,\n",
      "                \"fips\": \"48453\",\n",
      "                \"apn\": \"0332381704\",\n",
      "                \"attomId\": 328226049\n",
      "            },\n",
      "            \"lot\": {\n",
      "                \"lotSize1\": 0.1100092\n",
      "            },\n",
      "            \"address\": {\n",
      "                \"country\": \"US\",\n",
      "                \"countrySubd\": \"TX\",\n",
      "                \"line1\": \"6509 CONESTOGA WAGON WAY\",\n",
      "                \"line2\": \"DEL VALLE, TX 78617\",\n",
      "                \"locality\": \"DEL VALLE\",\n",
      "                \"matchCode\": \"ExaStr\",\n",
      "                \"oneLine\": \"6509 CONESTOGA WAGON WAY, DEL VALLE, TX 78617\",\n",
      "                \"postal1\": \"78617\",\n",
      "                \"postal2\": \"2037\",\n",
      "                \"postal3\": \"R010\"\n",
      "            },\n",
      "            \"location\": {\n",
      "                \"accuracy\": \"Rooftop\",\n",
      "                \"latitude\": \"30.163154\",\n",
      "                \"longitude\": \"-97.634327\",\n",
      "                \"distance\": 0.0,\n",
      "                \"geoid\": \"CO48453, CS4890165, DB4816620, SB0000119930, SB0000119931, SB0000119937, ZI78617\",\n",
      "                \"geoIdV4\": {\n",
      "                    \"CO\": \"1ac3868c36cd18fae9b5b3300e6f5383\",\n",
      "                    \"CS\": \"d07a0cf10823b391a46adc4090df57f0\",\n",
      "                    \"DB\": \"bb2d2deecc86872549ee9d28fdfcacce\",\n",
      "                    \"SB\": \"eebacad01910f2185c1d0b5e7fe376ac,a0110c894807b90af1f5fbe28f4129a8,fcf99c506b72999a41e771369101b0e8\",\n",
      "                    \"ZI\": \"795b59cb39df5e5cdf0d1d24884d71e5\"\n",
      "                }\n",
      "            },\n",
      "            \"summary\": {\n",
      "                \"propclass\": \"Single Family Residence / Townhouse\",\n",
      "                \"propsubtype\": \"Residential\",\n",
      "                \"proptype\": \"RESIDENTIAL (NEC)\",\n",
      "                \"propertyType\": \"MISCELLANEOUS (RESIDENTIAL)\",\n",
      "                \"yearbuilt\": 2020,\n",
      "                \"propLandUse\": \"RESIDENTIAL (NEC)\",\n",
      "                \"propIndicator\": \"10\"\n",
      "            },\n",
      "            \"building\": {\n",
      "                \"size\": {\n",
      "                    \"universalsize\": 1352\n",
      "                },\n",
      "                \"rooms\": {\n",
      "                    \"bathstotal\": 2.0,\n",
      "                    \"beds\": 3\n",
      "                }\n",
      "            },\n",
      "            \"vintage\": {\n",
      "                \"lastModified\": \"2023-03-17\",\n",
      "                \"pubDate\": \"2023-03-17\"\n",
      "            },\n",
      "            \"sale\": {\n",
      "                \"salesearchdate\": \"2021-03-12\",\n",
      "                \"saleTransDate\": \"2021-03-04\",\n",
      "                \"amount\": {\n",
      "                    \"saleamt\": 324986,\n",
      "                    \"salerecdate\": \"2021-03-12\",\n",
      "                    \"saledisclosuretype\": 1,\n",
      "                    \"saledocnum\": \"0000053388\",\n",
      "                    \"saletranstype\": \"Resale\"\n",
      "                },\n",
      "                \"calculation\": {\n",
      "                    \"priceperbed\": 108328,\n",
      "                    \"pricepersizeunit\": 240.37\n",
      "                },\n",
      "                \"vintage\": {\n",
      "                    \"lastModified\": \"2023-03-17\"\n",
      "                }\n",
      "            }\n",
      "        }\n",
      "    ]\n",
      "}\n"
     ]
    }
   ],
   "source": [
    "import http.client \n",
    "\n",
    "conn = http.client.HTTPSConnection(\"api.gateway.attomdata.com\") \n",
    "\n",
    "headers = { \n",
    "    'accept': \"application/json\", \n",
    "    'apikey': \"11003cf2f1787f8d42bfcf96177f9b43\", \n",
    "    } \n",
    "\n",
    "conn.request(\"GET\", \"https://api.gateway.attomdata.com/propertyapi/v1.0.0/sale/snapshot?startSaleSearchDate=2020/01/01&endSaleSearchDate=2022/12/31&postalcode=78617&minBeds=1&maxBeds=3&propertytype=RESIDENTIAL%20(NEC)&minuniversalsize=0&maxuniversalsize=1500&page=1&pagesize=100&orderBy=saleAmt+desc\", headers=headers) \n",
    "\n",
    "\n",
    "res = conn.getresponse() \n",
    "data = res.read() \n",
    "\n",
    "data_dict = json.loads(data.decode('utf-8'))\n",
    "\n",
    "# Pretty print the Python dictionary\n",
    "print(json.dumps(data_dict, indent=4))"
   ]
  },
  {
   "cell_type": "code",
   "execution_count": 3,
   "id": "c9788250-4c32-484b-b741-294e5f1ed898",
   "metadata": {
    "tags": []
   },
   "outputs": [
    {
     "ename": "KeyError",
     "evalue": "'area'",
     "output_type": "error",
     "traceback": [
      "\u001b[0;31m---------------------------------------------------------------------------\u001b[0m",
      "\u001b[0;31mKeyError\u001b[0m                                  Traceback (most recent call last)",
      "Cell \u001b[0;32mIn[3], line 3\u001b[0m\n\u001b[1;32m      1\u001b[0m \u001b[38;5;66;03m# Convert the data to a DataFrame\u001b[39;00m\n\u001b[1;32m      2\u001b[0m propertydata \u001b[38;5;241m=\u001b[39m {\n\u001b[0;32m----> 3\u001b[0m     \u001b[38;5;124m'\u001b[39m\u001b[38;5;124mProperty type\u001b[39m\u001b[38;5;124m'\u001b[39m:\u001b[43mdata_dict\u001b[49m\u001b[43m[\u001b[49m\u001b[38;5;124;43m\"\u001b[39;49m\u001b[38;5;124;43marea\u001b[39;49m\u001b[38;5;124;43m\"\u001b[39;49m\u001b[43m]\u001b[49m[\u001b[38;5;241m1\u001b[39m],\n\u001b[1;32m      4\u001b[0m    \u001b[38;5;66;03m#'Property type':data_dict[\"property\"][\"lots\"][\"zoningType\"],\u001b[39;00m\n\u001b[1;32m      5\u001b[0m     \u001b[38;5;66;03m#'Bedrooms':data_dict[\"property\"][1],\u001b[39;00m\n\u001b[1;32m      6\u001b[0m     \u001b[38;5;66;03m#'Address':data_dict[\"property\"][\"address\"][\"oneLine\"],\u001b[39;00m\n\u001b[1;32m      7\u001b[0m     \u001b[38;5;66;03m#'City', data_dict[\"property\"][1],\u001b[39;00m\n\u001b[1;32m      8\u001b[0m     \u001b[38;5;66;03m#'State', data_dict[\"property\"][1],\u001b[39;00m\n\u001b[1;32m      9\u001b[0m     }\n\u001b[1;32m     11\u001b[0m \u001b[38;5;66;03m# Convert the dictionary to a DataFrame\u001b[39;00m\n\u001b[1;32m     12\u001b[0m df \u001b[38;5;241m=\u001b[39m pd\u001b[38;5;241m.\u001b[39mDataFrame(propertydata)\n",
      "\u001b[0;31mKeyError\u001b[0m: 'area'"
     ]
    }
   ],
   "source": [
    "# Convert the data to a DataFrame\n",
    "propertydata = {\n",
    "    'Property type':data_dict[\"area\"][1],\n",
    "   #'Property type':data_dict[\"property\"][\"lots\"][\"zoningType\"],\n",
    "    #'Bedrooms':data_dict[\"property\"][1],\n",
    "    #'Address':data_dict[\"property\"][\"address\"][\"oneLine\"],\n",
    "    #'City', data_dict[\"property\"][1],\n",
    "    #'State', data_dict[\"property\"][1],\n",
    "    }\n",
    "\n",
    "# Convert the dictionary to a DataFrame\n",
    "df = pd.DataFrame(propertydata)\n",
    "df"
   ]
  },
  {
   "cell_type": "code",
   "execution_count": null,
   "id": "5568a783-da70-4aee-ad29-2ed2d5c55b9b",
   "metadata": {},
   "outputs": [],
   "source": []
  },
  {
   "cell_type": "code",
   "execution_count": null,
   "id": "f0e78772-7fda-454a-9e54-9208f2d13b94",
   "metadata": {},
   "outputs": [],
   "source": []
  }
 ],
 "metadata": {
  "kernelspec": {
   "display_name": "Python 3 (ipykernel)",
   "language": "python",
   "name": "python3"
  },
  "language_info": {
   "codemirror_mode": {
    "name": "ipython",
    "version": 3
   },
   "file_extension": ".py",
   "mimetype": "text/x-python",
   "name": "python",
   "nbconvert_exporter": "python",
   "pygments_lexer": "ipython3",
   "version": "3.10.11"
  }
 },
 "nbformat": 4,
 "nbformat_minor": 5
}
