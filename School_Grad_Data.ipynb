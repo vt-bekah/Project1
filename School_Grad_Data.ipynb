{
 "cells": [
  {
   "cell_type": "markdown",
   "id": "30831c02-1d1e-4bad-b99f-702106825316",
   "metadata": {
    "tags": []
   },
   "source": [
    "# Question to Answer \n",
    "## In which cities are schools most performant?\n",
    "\n",
    "# Approach\n",
    "#### Select data: Graduation Rates for schools within each target city we are evaluating for potential investment.\n",
    "#### Identify data source: \n",
    "#####   Austin: https://tea.texas.gov/reports-and-data/school-performance/accountability-research/completion-graduation-and-dropout\n",
    "#####   Chicago: https://www.illinoisreportcard.com/district.aspx?source=trends&source2=graduationrate&Districtid=15016299025\n",
    "#####   Denver: https://www.cde.state.co.us/cdereval/gradratecurrent\n",
    "#####   Memphis: https://www.publicschoolreview.com/tennessee/shelby-county-school-district/4700148-school-district\n",
    "#####   New York City: https://infohub.nyced.org/reports/academics/graduation-results\n",
    "#####   San Francisco: https://www.cde.ca.gov/nr/ne/yr20/yr20rel101.asp\n",
    "#### Collect data: Graduation Rates 2019-2021\n",
    "#### Analyze data: Calculate the average graduation rate for each city during the years 2019-2021\n",
    "\n",
    "# Analysis Summary\n",
    "#### In analyzing the cities for real estate investment, the cities school's graduation rates were evaluated for the years 2019-2021. According to the data found for each city and the subsequent results, it seems that the cities of Austin and Denver have the best overall graduation rates in their schools.\n",
    "\n",
    "#### • Austin shows the highest percentages over the 3 years which would make it the top choice in terms of schools in our investment search.\n",
    "#### • Overall, it is good to see all the cities we are evaluating have promising statistics in terms graduation rate percentages.\n",
    "#### • In the graph, San Francisco schools show the greatest improvement in graduation rate percentage over the 3 years analyzed compared to the other cities which were relatively static."
   ]
  },
  {
   "cell_type": "code",
   "execution_count": 1,
   "id": "811b9e82-1056-4072-a7bb-3f7cd176cc74",
   "metadata": {
    "tags": []
   },
   "outputs": [],
   "source": [
    "# Dependencies\n",
    "import os\n",
    "import csv\n",
    "import pandas as pd\n",
    "import matplotlib.pyplot as plt\n",
    "import numpy as np"
   ]
  },
  {
   "cell_type": "code",
   "execution_count": 2,
   "id": "1bd69f7b-4363-453c-b36a-fdf426328bee",
   "metadata": {
    "tags": []
   },
   "outputs": [
    {
     "name": "stdout",
     "output_type": "stream",
     "text": [
      "Average Graduation Rate in Austin schools 2019: 90.3%\n",
      "Average Graduation Rate in Austin schools 2020: 89.07%\n",
      "Average Graduation Rate in Austin schools 2021: 90.74%\n"
     ]
    }
   ],
   "source": [
    "# Read in files for each state\n",
    "\n",
    "# Austin, TX 2019-2021 Grad Rate Data\n",
    "austin_grad_df = pd.read_csv(\"resources/Austin_Grad_Data.csv\", low_memory=False)\n",
    "# Extract the 'DIST_ALLR_GRAD' (District All Students Graduation Rate)\n",
    "austin_grad_df = austin_grad_df.fillna(0)\n",
    "\n",
    "# Create separate variables for each column so we can find average graduation rate\n",
    "austin_2019_grad_rate = austin_grad_df['2019_DIST_ALLR_GRAD']\n",
    "austin_2020_grad_rate = austin_grad_df['2020_DIST_ALLR_GRAD']\n",
    "austin_2021_grad_rate = austin_grad_df['2021_DIST_ALLR_GRAD']\n",
    "\n",
    "# Calculate mean graduation rate for each year\n",
    "mean_austin_19 = austin_2019_grad_rate.mean().round(2)\n",
    "mean_austin_20 = austin_2020_grad_rate.mean().round(2)\n",
    "mean_austin_21 = austin_2021_grad_rate.mean().round(2)\n",
    "\n",
    "# Print results\n",
    "print(f\"Average Graduation Rate in Austin schools 2019: {mean_austin_19}%\")\n",
    "print(f\"Average Graduation Rate in Austin schools 2020: {mean_austin_20}%\")\n",
    "print(f\"Average Graduation Rate in Austin schools 2021: {mean_austin_21}%\")"
   ]
  },
  {
   "cell_type": "code",
   "execution_count": 3,
   "id": "a78469ad-739e-479b-a287-c1a4024a9735",
   "metadata": {
    "tags": []
   },
   "outputs": [
    {
     "name": "stdout",
     "output_type": "stream",
     "text": [
      "Average Graduation Rate in Chicago schools 2019: 76.5%\n",
      "Average Graduation Rate in Chicago schools 2020: 81.3%\n",
      "Average Graduation Rate in Chicago schools 2021: 79.3%\n"
     ]
    }
   ],
   "source": [
    "# Chicago, IL 2019-2021 Grad Rate Data\n",
    "# Data pulled from large Excel documents so it was easier to copy to a new workbook\n",
    "chicago_grad_df = pd.read_csv(\"resources/Chicago_Grad_Data.csv\")\n",
    "\n",
    "# Create separate variables for each column\n",
    "chicago_2019_grad_rate = chicago_grad_df['2019 4 Yr Graduation Rate']\n",
    "chicago_2020_grad_rate = chicago_grad_df['2020 4 Yr Graduation Rate']\n",
    "chicago_2021_grad_rate = chicago_grad_df['2021 4 Yr Graduation Rate']\n",
    "\n",
    "# Calculate mean graduation rate for each year\n",
    "mean_chicago_19 = chicago_2019_grad_rate.mean()\n",
    "mean_chicago_20 = chicago_2020_grad_rate.mean()\n",
    "mean_chicago_21 = chicago_2021_grad_rate.mean()\n",
    "\n",
    "# Print results\n",
    "print(f\"Average Graduation Rate in Chicago schools 2019: {mean_chicago_19}%\")\n",
    "print(f\"Average Graduation Rate in Chicago schools 2020: {mean_chicago_20}%\")\n",
    "print(f\"Average Graduation Rate in Chicago schools 2021: {mean_chicago_21}%\")"
   ]
  },
  {
   "cell_type": "code",
   "execution_count": 4,
   "id": "09a2a073-e55a-40d9-bfda-b7c291e3b1f2",
   "metadata": {
    "tags": []
   },
   "outputs": [
    {
     "name": "stdout",
     "output_type": "stream",
     "text": [
      "Average Graduation Rate in Denver schools 2019: 83.87%\n",
      "Average Graduation Rate in Denver schools 2020: 84.5%\n",
      "Average Graduation Rate in Denver schools 2021: 83.96%\n"
     ]
    }
   ],
   "source": [
    "# Denver, CO 2019-2021 Grad Rate Data\n",
    "# Data pulled from large Excel documents so it was easier to copy to a new workbook\n",
    "denver_grad_df = pd.read_csv(\"resources/Denver_Grad_Data.csv\")\n",
    "\n",
    "# Create separate variables for each column\n",
    "denver_2019_grad_rate = denver_grad_df['2019 All Students Graduation Rate']\n",
    "denver_2020_grad_rate = denver_grad_df['2020 All Students Graduation Rate']\n",
    "denver_2021_grad_rate = denver_grad_df['2021 All Students Graduation Rate']\n",
    "\n",
    "# Calculate mean graduation rate for each year\n",
    "mean_denver_19 = denver_2019_grad_rate.mean().round(2)\n",
    "mean_denver_20 = denver_2020_grad_rate.mean().round(2)\n",
    "mean_denver_21 = denver_2021_grad_rate.mean().round(2)\n",
    "\n",
    "# Print results\n",
    "print(f\"Average Graduation Rate in Denver schools 2019: {mean_denver_19}%\")\n",
    "print(f\"Average Graduation Rate in Denver schools 2020: {mean_denver_20}%\")\n",
    "print(f\"Average Graduation Rate in Denver schools 2021: {mean_denver_21}%\")"
   ]
  },
  {
   "cell_type": "code",
   "execution_count": 5,
   "id": "879908b2-9cd2-48c1-adcc-e64eead77fab",
   "metadata": {
    "tags": []
   },
   "outputs": [
    {
     "name": "stdout",
     "output_type": "stream",
     "text": [
      "Average Graduation Rate in Memphis schools 2019: 79.3%\n",
      "Average Graduation Rate in Memphis schools 2020: 77.7%\n",
      "Average Graduation Rate in Memphis schools 2021: 80.1%\n"
     ]
    }
   ],
   "source": [
    "# Memphis is missing csv as data came from pdf from the city which is referenced in the README.md\n",
    "# Memphis, TN 2019-2021 Grad Rate Data\n",
    "mean_memphis_19 = 79.3\n",
    "mean_memphis_20 = 77.7\n",
    "mean_memphis_21 = 80.1\n",
    "\n",
    "# Print results\n",
    "print(f\"Average Graduation Rate in Memphis schools 2019: {mean_memphis_19}%\")\n",
    "print(f\"Average Graduation Rate in Memphis schools 2020: {mean_memphis_20}%\")\n",
    "print(f\"Average Graduation Rate in Memphis schools 2021: {mean_memphis_21}%\")"
   ]
  },
  {
   "cell_type": "code",
   "execution_count": 6,
   "id": "8d2a9f76-069f-4fdc-a8b6-9e4fa3c5386d",
   "metadata": {
    "tags": []
   },
   "outputs": [
    {
     "name": "stdout",
     "output_type": "stream",
     "text": [
      "Average Graduation Rate in New York City schools 2019: 77.3%\n",
      "Average Graduation Rate in New York City schools 2020: 79.8%\n",
      "Average Graduation Rate in New York City schools 2021: 82.6%\n"
     ]
    }
   ],
   "source": [
    "# New York City, NY 2019-2021 Grad Rate Data\n",
    "nyc_grad_df = pd.read_csv(\"resources/NYC_graduation_rates.csv\")\n",
    "\n",
    "# Sort DataFrame to only include 'Cohort Year', 'Cohort', and '% Grads'\n",
    "# Will be looking at cohorts 2015-2017 as they graduated 2019-2021\n",
    "reduced_nyc_gr = nyc_grad_df[['Cohort Year', 'Cohort', '% Grads']]\n",
    "\n",
    "final_nyc_gr = reduced_nyc_gr.iloc[1:4]\n",
    "\n",
    "# Calculate mean graduation rate for each year\n",
    "mean_nyc_19 = final_nyc_gr.at[3, '% Grads']\n",
    "mean_nyc_20 = final_nyc_gr.at[2, '% Grads']\n",
    "mean_nyc_21 = final_nyc_gr.at[1, '% Grads']\n",
    "\n",
    "# Print results\n",
    "print(f\"Average Graduation Rate in New York City schools 2019: {mean_nyc_19}%\")\n",
    "print(f\"Average Graduation Rate in New York City schools 2020: {mean_nyc_20}%\")\n",
    "print(f\"Average Graduation Rate in New York City schools 2021: {mean_nyc_21}%\")"
   ]
  },
  {
   "cell_type": "code",
   "execution_count": 7,
   "id": "2f55fce1-e33c-4147-9393-46b992f145b0",
   "metadata": {
    "tags": []
   },
   "outputs": [
    {
     "name": "stdout",
     "output_type": "stream",
     "text": [
      "Average Graduation Rate in San Francisco schools 2019: 64.1%\n",
      "Average Graduation Rate in San Francisco schools 2020: 77.22%\n",
      "Average Graduation Rate in San Francisco schools 2021: 77.41%\n"
     ]
    }
   ],
   "source": [
    "# San Francisco, CA 2019-2021 Grad Rate Data\n",
    "sf_grad_df = pd.read_csv(\"resources/SanFrancisco_Grad_Rate.csv\")\n",
    "\n",
    "# Create separate variables for each column so we can find average graduation rate\n",
    "sf_2019_grad_rate = 64.1\n",
    "sf_2020_grad_rate = sf_grad_df['2019-20 4-Year Graduation Rate']\n",
    "sf_2021_grad_rate = sf_grad_df['2020-21 4-Year Graduation Rate']\n",
    "\n",
    "# Calculate mean graduation rate for each year\n",
    "mean_sf_20 = sf_2020_grad_rate.mean().round(2)\n",
    "mean_sf_21 = sf_2021_grad_rate.mean().round(2)\n",
    "\n",
    "# Print results\n",
    "print(f\"Average Graduation Rate in San Francisco schools 2019: {sf_2019_grad_rate}%\")\n",
    "print(f\"Average Graduation Rate in San Francisco schools 2020: {mean_sf_20}%\")\n",
    "print(f\"Average Graduation Rate in San Francisco schools 2021: {mean_sf_21}%\")"
   ]
  },
  {
   "cell_type": "code",
   "execution_count": 8,
   "id": "291eaff5-2979-4bd0-98d9-7fd9a60087ef",
   "metadata": {
    "tags": []
   },
   "outputs": [
    {
     "data": {
      "text/html": [
       "<div>\n",
       "<style scoped>\n",
       "    .dataframe tbody tr th:only-of-type {\n",
       "        vertical-align: middle;\n",
       "    }\n",
       "\n",
       "    .dataframe tbody tr th {\n",
       "        vertical-align: top;\n",
       "    }\n",
       "\n",
       "    .dataframe thead th {\n",
       "        text-align: right;\n",
       "    }\n",
       "</style>\n",
       "<table border=\"1\" class=\"dataframe\">\n",
       "  <thead>\n",
       "    <tr style=\"text-align: right;\">\n",
       "      <th></th>\n",
       "      <th>City</th>\n",
       "      <th>Graduation Rates 2019</th>\n",
       "      <th>Graduation Rates 2020</th>\n",
       "      <th>Graduation Rates 2021</th>\n",
       "    </tr>\n",
       "  </thead>\n",
       "  <tbody>\n",
       "    <tr>\n",
       "      <th>0</th>\n",
       "      <td>Austin</td>\n",
       "      <td>90.30</td>\n",
       "      <td>89.07</td>\n",
       "      <td>90.74</td>\n",
       "    </tr>\n",
       "    <tr>\n",
       "      <th>1</th>\n",
       "      <td>Chicago</td>\n",
       "      <td>76.50</td>\n",
       "      <td>81.30</td>\n",
       "      <td>79.30</td>\n",
       "    </tr>\n",
       "    <tr>\n",
       "      <th>2</th>\n",
       "      <td>Denver</td>\n",
       "      <td>83.87</td>\n",
       "      <td>84.50</td>\n",
       "      <td>83.96</td>\n",
       "    </tr>\n",
       "    <tr>\n",
       "      <th>3</th>\n",
       "      <td>Memphis</td>\n",
       "      <td>79.30</td>\n",
       "      <td>79.80</td>\n",
       "      <td>80.10</td>\n",
       "    </tr>\n",
       "    <tr>\n",
       "      <th>4</th>\n",
       "      <td>New York</td>\n",
       "      <td>77.30</td>\n",
       "      <td>77.70</td>\n",
       "      <td>82.60</td>\n",
       "    </tr>\n",
       "    <tr>\n",
       "      <th>5</th>\n",
       "      <td>San Francisco</td>\n",
       "      <td>64.10</td>\n",
       "      <td>77.22</td>\n",
       "      <td>77.41</td>\n",
       "    </tr>\n",
       "  </tbody>\n",
       "</table>\n",
       "</div>"
      ],
      "text/plain": [
       "            City  Graduation Rates 2019  Graduation Rates 2020  \\\n",
       "0         Austin                  90.30                  89.07   \n",
       "1        Chicago                  76.50                  81.30   \n",
       "2         Denver                  83.87                  84.50   \n",
       "3        Memphis                  79.30                  79.80   \n",
       "4       New York                  77.30                  77.70   \n",
       "5  San Francisco                  64.10                  77.22   \n",
       "\n",
       "   Graduation Rates 2021  \n",
       "0                  90.74  \n",
       "1                  79.30  \n",
       "2                  83.96  \n",
       "3                  80.10  \n",
       "4                  82.60  \n",
       "5                  77.41  "
      ]
     },
     "execution_count": 8,
     "metadata": {},
     "output_type": "execute_result"
    }
   ],
   "source": [
    "# Combine all of calculated graduation mean values into a singular DataFrame to enable easy visualization\n",
    "\n",
    "# Create city list for data frame\n",
    "city = [\"Austin\",\"Chicago\", \"Denver\", \"Memphis\", \"New York\", \"San Francisco\"]\n",
    "\n",
    "# Add grad rate data to lists to enable for easy intergration into new DataFrame\n",
    "gr_19 = []\n",
    "gr_19.append(mean_austin_19)\n",
    "gr_19.append(mean_chicago_19)\n",
    "gr_19.append(mean_denver_19)\n",
    "gr_19.append(mean_memphis_19)\n",
    "gr_19.append(mean_nyc_19)\n",
    "gr_19.append(sf_2019_grad_rate)\n",
    "\n",
    "gr_20 = []\n",
    "gr_20.append(mean_austin_20)\n",
    "gr_20.append(mean_chicago_20)\n",
    "gr_20.append(mean_denver_20)\n",
    "gr_20.append(mean_nyc_20)\n",
    "gr_20.append(mean_memphis_20)\n",
    "gr_20.append(mean_sf_20)\n",
    "\n",
    "gr_21 = []\n",
    "gr_21.append(mean_austin_21)\n",
    "gr_21.append(mean_chicago_21)\n",
    "gr_21.append(mean_denver_21)\n",
    "gr_21.append(mean_memphis_21)\n",
    "gr_21.append(mean_nyc_21)\n",
    "gr_21.append(mean_sf_21)\n",
    "\n",
    "# Create new Data Frame and print\n",
    "combined_grad_data = pd.DataFrame({\"City\": city, \"Graduation Rates 2019\": gr_19,\n",
    "                                   \"Graduation Rates 2020\": gr_20, \"Graduation Rates 2021\": gr_21})\n",
    "combined_grad_data"
   ]
  },
  {
   "cell_type": "code",
   "execution_count": 9,
   "id": "5b51e24b-5add-4a19-ad2e-48fbbc19eb80",
   "metadata": {},
   "outputs": [
    {
     "data": {
      "image/png": "[encoded data removed]",
      "text/plain": [
       "<Figure size 1000x500 with 1 Axes>"
      ]
     },
     "metadata": {},
     "output_type": "display_data"
    },
    {
     "name": "stdout",
     "output_type": "stream",
     "text": [
      "From this visual we can see Austin and Denver have the highest graduation rates out of the six cities\n"
     ]
    }
   ],
   "source": [
    "# Graph the combined data in cluster bar graph\n",
    "city = [\"Austin\",\"Chicago\", \"Denver\", \"Memphis\", \"New York\", \"San Francisco\"]\n",
    "grbar = {\"2019 Graduation Rate\" : combined_grad_data[\"Graduation Rates 2019\"], \n",
    "         \"2020 Graduation Rate\" : combined_grad_data[\"Graduation Rates 2020\"],\n",
    "         \"2021 Graduation Rate\" : combined_grad_data[\"Graduation Rates 2021\"]}\n",
    "\n",
    "x = np.arange(len(combined_grad_data))\n",
    "width = 0.29\n",
    "multiplier = 0\n",
    "\n",
    "fig, ax = plt.subplots(figsize=(10,5))\n",
    "\n",
    "for key, value in grbar.items():\n",
    "    offset = width * multiplier\n",
    "    rects = ax.bar(x + offset, round(value,1), width, label=key)\n",
    "    ax.bar_label(rects, padding=3)\n",
    "    multiplier += 1\n",
    "\n",
    "ax.set_ylabel(\"Graduation Rates Per Year (%)\")\n",
    "ax.set_xlabel(\"City\")\n",
    "ax.set_title(\"Percent Change in Graduation Rates 2019-2021\")\n",
    "ax.set_xticks(x + width, city, rotation=45)\n",
    "ax.legend(bbox_to_anchor=(1.05,1.0), loc=\"upper left\")\n",
    "ax.set_ylim(0, 100)\n",
    "\n",
    "# Save the figure\n",
    "#plt.savefig(\"output_data/SchoolGradRate.png\")\n",
    "plt.tight_layout()\n",
    "plt.show()\n",
    "\n",
    "print(\"From this visual we can see Austin and Denver have the highest graduation rates out of the six cities\")"
   ]
  },
  {
   "cell_type": "code",
   "execution_count": 11,
   "id": "b0b2db0a-542e-4889-91d5-597c92581295",
   "metadata": {
    "tags": []
   },
   "outputs": [
    {
     "name": "stdout",
     "output_type": "stream",
     "text": [
      "The middle 50% of Austin schools have a graduation rate between 92.1 and 97.5\n",
      "The middle 50% of Denver schools have a graduation rate between 76.2 and 91.2\n"
     ]
    },
    {
     "data": {
      "text/html": [
       "<div>\n",
       "<style scoped>\n",
       "    .dataframe tbody tr th:only-of-type {\n",
       "        vertical-align: middle;\n",
       "    }\n",
       "\n",
       "    .dataframe tbody tr th {\n",
       "        vertical-align: top;\n",
       "    }\n",
       "\n",
       "    .dataframe thead th {\n",
       "        text-align: right;\n",
       "    }\n",
       "</style>\n",
       "<table border=\"1\" class=\"dataframe\">\n",
       "  <thead>\n",
       "    <tr style=\"text-align: right;\">\n",
       "      <th></th>\n",
       "      <th>City</th>\n",
       "      <th>2021 Graduation Rates Mean</th>\n",
       "      <th>2021 Graduation Rates Median</th>\n",
       "      <th>2021 Graduation Rates Standard Deviation</th>\n",
       "      <th>2021 Graduation Rates Standard Error</th>\n",
       "      <th>2021 Graduation Rates Minimum</th>\n",
       "      <th>2021 Graduation Rates Maximum</th>\n",
       "      <th>2021 Graduation Rates Lower Quartile</th>\n",
       "      <th>2021 Graduation Rates Upper Quartile</th>\n",
       "    </tr>\n",
       "  </thead>\n",
       "  <tbody>\n",
       "    <tr>\n",
       "      <th>0</th>\n",
       "      <td>Austin</td>\n",
       "      <td>90.74</td>\n",
       "      <td>95.1</td>\n",
       "      <td>15.611184</td>\n",
       "      <td>1.40</td>\n",
       "      <td>20.0</td>\n",
       "      <td>100.0</td>\n",
       "      <td>92.1</td>\n",
       "      <td>97.5</td>\n",
       "    </tr>\n",
       "    <tr>\n",
       "      <th>1</th>\n",
       "      <td>Denver</td>\n",
       "      <td>83.96</td>\n",
       "      <td>87.9</td>\n",
       "      <td>12.473616</td>\n",
       "      <td>2.32</td>\n",
       "      <td>53.3</td>\n",
       "      <td>100.0</td>\n",
       "      <td>76.2</td>\n",
       "      <td>91.2</td>\n",
       "    </tr>\n",
       "  </tbody>\n",
       "</table>\n",
       "</div>"
      ],
      "text/plain": [
       "     City  2021 Graduation Rates Mean  2021 Graduation Rates Median  \\\n",
       "0  Austin                       90.74                          95.1   \n",
       "1  Denver                       83.96                          87.9   \n",
       "\n",
       "   2021 Graduation Rates Standard Deviation  \\\n",
       "0                                 15.611184   \n",
       "1                                 12.473616   \n",
       "\n",
       "   2021 Graduation Rates Standard Error  2021 Graduation Rates Minimum  \\\n",
       "0                                  1.40                           20.0   \n",
       "1                                  2.32                           53.3   \n",
       "\n",
       "   2021 Graduation Rates Maximum  2021 Graduation Rates Lower Quartile  \\\n",
       "0                          100.0                                  92.1   \n",
       "1                          100.0                                  76.2   \n",
       "\n",
       "   2021 Graduation Rates Upper Quartile  \n",
       "0                                  97.5  \n",
       "1                                  91.2  "
      ]
     },
     "execution_count": 11,
     "metadata": {},
     "output_type": "execute_result"
    }
   ],
   "source": [
    "# Statistically compare Austin v. Denver \n",
    "# (this can be expanded to include Chicago and San Francisco by updating the df_list and city_list, but not Mempis and New york due to different data sources)\n",
    "from scipy.stats import sem\n",
    "\n",
    "# Create lists for DataFrames and Cities in same order\n",
    "df_list = [austin_2021_grad_rate, denver_2021_grad_rate]\n",
    "city_list = [\"Austin\", \"Denver\"]\n",
    "\n",
    "# Create inital lists for desired stats to populate in DataFrame\n",
    "stats_mean = []\n",
    "stats_med = []\n",
    "stats_std = []\n",
    "stats_sem = []\n",
    "stats_min = []\n",
    "stats_max = []\n",
    "stats_lq = []\n",
    "stats_uq = []\n",
    "\n",
    "for df in df_list:\n",
    "    # Calculate core stats and store in list for future use to populate DataFrame\n",
    "    stats_mean.append(df.mean().round(2))\n",
    "    stats_med.append(df.median())\n",
    "    stats_std.append(df.std())\n",
    "    stats_sem.append(df.sem().round(2))\n",
    "    stats_min.append(df.min())\n",
    "    stats_max.append(df.max())\n",
    "\n",
    "    # Calculate quartiles to be able to say middle 50% of population falls between...\n",
    "    quartiles = df.quantile([.25,.5,.75])\n",
    "    stats_lq.append(quartiles[0.25])\n",
    "    stats_uq.append(quartiles[0.75])\n",
    "    \n",
    "for i in range(len(city_list)):\n",
    "    print(f\"The middle 50% of {city_list[i]} schools have a graduation rate between {stats_lq[i]} and {stats_uq[i]}\")   \n",
    "\n",
    "\n",
    "stat_grad_data = pd.DataFrame({\"City\": city_list, \"2021 Graduation Rates Mean\": stats_mean,\n",
    "                                   \"2021 Graduation Rates Median\": stats_med, \"2021 Graduation Rates Standard Deviation\": stats_std,\n",
    "                              \"2021 Graduation Rates Standard Error\": stats_sem, \"2021 Graduation Rates Minimum\": stats_min,\n",
    "                              \"2021 Graduation Rates Maximum\": stats_max, \"2021 Graduation Rates Lower Quartile\": stats_lq, \n",
    "                              \"2021 Graduation Rates Upper Quartile\": stats_uq})\n",
    "stat_grad_data"
   ]
  },
  {
   "cell_type": "code",
   "execution_count": 12,
   "id": "6dc5afdf-9d48-4454-89f4-20436ca62366",
   "metadata": {
    "tags": []
   },
   "outputs": [
    {
     "name": "stdout",
     "output_type": "stream",
     "text": [
      "The middle 50% of Chicago schools have a graduation rate between 79.3 and 79.3\n",
      "The middle 50% of San Francisco schools have a graduation rate between 70.55 and 83.6\n"
     ]
    },
    {
     "data": {
      "text/html": [
       "<div>\n",
       "<style scoped>\n",
       "    .dataframe tbody tr th:only-of-type {\n",
       "        vertical-align: middle;\n",
       "    }\n",
       "\n",
       "    .dataframe tbody tr th {\n",
       "        vertical-align: top;\n",
       "    }\n",
       "\n",
       "    .dataframe thead th {\n",
       "        text-align: right;\n",
       "    }\n",
       "</style>\n",
       "<table border=\"1\" class=\"dataframe\">\n",
       "  <thead>\n",
       "    <tr style=\"text-align: right;\">\n",
       "      <th></th>\n",
       "      <th>City</th>\n",
       "      <th>2021 Graduation Rates Mean</th>\n",
       "      <th>2021 Graduation Rates Median</th>\n",
       "      <th>2021 Graduation Rates Standard Deviation</th>\n",
       "      <th>2021 Graduation Rates Standard Error</th>\n",
       "      <th>2021 Graduation Rates Minimum</th>\n",
       "      <th>2021 Graduation Rates Maximum</th>\n",
       "      <th>2021 Graduation Rates Lower Quartile</th>\n",
       "      <th>2021 Graduation Rates Upper Quartile</th>\n",
       "    </tr>\n",
       "  </thead>\n",
       "  <tbody>\n",
       "    <tr>\n",
       "      <th>0</th>\n",
       "      <td>Chicago</td>\n",
       "      <td>79.30</td>\n",
       "      <td>79.3</td>\n",
       "      <td>NaN</td>\n",
       "      <td>NaN</td>\n",
       "      <td>79.3</td>\n",
       "      <td>79.3</td>\n",
       "      <td>79.30</td>\n",
       "      <td>79.3</td>\n",
       "    </tr>\n",
       "    <tr>\n",
       "      <th>1</th>\n",
       "      <td>San Francisco</td>\n",
       "      <td>77.41</td>\n",
       "      <td>79.4</td>\n",
       "      <td>10.631185</td>\n",
       "      <td>2.74</td>\n",
       "      <td>55.7</td>\n",
       "      <td>94.1</td>\n",
       "      <td>70.55</td>\n",
       "      <td>83.6</td>\n",
       "    </tr>\n",
       "  </tbody>\n",
       "</table>\n",
       "</div>"
      ],
      "text/plain": [
       "            City  2021 Graduation Rates Mean  2021 Graduation Rates Median  \\\n",
       "0        Chicago                       79.30                          79.3   \n",
       "1  San Francisco                       77.41                          79.4   \n",
       "\n",
       "   2021 Graduation Rates Standard Deviation  \\\n",
       "0                                       NaN   \n",
       "1                                 10.631185   \n",
       "\n",
       "   2021 Graduation Rates Standard Error  2021 Graduation Rates Minimum  \\\n",
       "0                                   NaN                           79.3   \n",
       "1                                  2.74                           55.7   \n",
       "\n",
       "   2021 Graduation Rates Maximum  2021 Graduation Rates Lower Quartile  \\\n",
       "0                           79.3                                 79.30   \n",
       "1                           94.1                                 70.55   \n",
       "\n",
       "   2021 Graduation Rates Upper Quartile  \n",
       "0                                  79.3  \n",
       "1                                  83.6  "
      ]
     },
     "execution_count": 12,
     "metadata": {},
     "output_type": "execute_result"
    }
   ],
   "source": [
    "# Statistically compare Austin v. Denver \n",
    "# (this can be expanded to include Chicago and San Francisco by updating the df_list and city_list, but not Mempis and New york due to different data sources)\n",
    "from scipy.stats import sem\n",
    "\n",
    "# Create lists for DataFrames and Cities in same order\n",
    "df_list = [chicago_2021_grad_rate, sf_2021_grad_rate]\n",
    "city_list = [\"Chicago\", \"San Francisco\"]\n",
    "\n",
    "# Create inital lists for desired stats to populate in DataFrame\n",
    "stats_mean = []\n",
    "stats_med = []\n",
    "stats_std = []\n",
    "stats_sem = []\n",
    "stats_min = []\n",
    "stats_max = []\n",
    "stats_lq = []\n",
    "stats_uq = []\n",
    "\n",
    "for df in df_list:\n",
    "    # Calculate core stats and store in list for future use to populate DataFrame\n",
    "    stats_mean.append(df.mean().round(2))\n",
    "    stats_med.append(df.median())\n",
    "    stats_std.append(df.std())\n",
    "    stats_sem.append(df.sem().round(2))\n",
    "    stats_min.append(df.min())\n",
    "    stats_max.append(df.max())\n",
    "\n",
    "    # Calculate quartiles to be able to say middle 50% of population falls between...\n",
    "    quartiles = df.quantile([.25,.5,.75])\n",
    "    stats_lq.append(quartiles[0.25])\n",
    "    stats_uq.append(quartiles[0.75])\n",
    "    \n",
    "for i in range(len(city_list)):\n",
    "    print(f\"The middle 50% of {city_list[i]} schools have a graduation rate between {stats_lq[i]} and {stats_uq[i]}\")   \n",
    "\n",
    "\n",
    "stat_grad_data = pd.DataFrame({\"City\": city_list, \"2021 Graduation Rates Mean\": stats_mean,\n",
    "                                   \"2021 Graduation Rates Median\": stats_med, \"2021 Graduation Rates Standard Deviation\": stats_std,\n",
    "                              \"2021 Graduation Rates Standard Error\": stats_sem, \"2021 Graduation Rates Minimum\": stats_min,\n",
    "                              \"2021 Graduation Rates Maximum\": stats_max, \"2021 Graduation Rates Lower Quartile\": stats_lq, \n",
    "                              \"2021 Graduation Rates Upper Quartile\": stats_uq})\n",
    "stat_grad_data"
   ]
  }
 ],
 "metadata": {
  "kernelspec": {
   "display_name": "Python 3 (ipykernel)",
   "language": "python",
   "name": "python3"
  },
  "language_info": {
   "codemirror_mode": {
    "name": "ipython",
    "version": 3
   },
   "file_extension": ".py",
   "mimetype": "text/x-python",
   "name": "python",
   "nbconvert_exporter": "python",
   "pygments_lexer": "ipython3",
   "version": "3.10.11"
  }
 },
 "nbformat": 4,
 "nbformat_minor": 5
}
