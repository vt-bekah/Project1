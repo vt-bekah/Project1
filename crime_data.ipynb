{
 "cells": [
  {
   "cell_type": "markdown",
   "id": "7a31e0e0-6e1f-4e61-9746-d739b44005e3",
   "metadata": {
    "tags": []
   },
   "source": [
    "# NOTE: File sizes for the CSV files are incredibly large and unable to be pushed to repo.\n",
    "# Use link below to download the files and place into folder containing the jupyter lab notebook\n",
    "# https://drive.google.com/drive/folders/1YZleML3H3upn3kOD3Mp36WhDErgkZV_C?usp=drive_link"
   ]
  },
  {
   "cell_type": "raw",
   "id": "dd738bc4-d6c9-4818-98eb-5b214923bce1",
   "metadata": {},
   "source": [
    "For this project, I wanted to try and challenge myself with a very large data set and play around to see what I could do to clean it up and analyze it. I did not expect it to be as large as it was. My approach was to get it down to be as easy to read as possible, and as managable as possible. Cutting down the amount of data proved to be quite the challenge, as each city had a different way of sorting their data, dfferent information and different classifications for the same information. When getting into the actual data, I was surprised to find that the results for the lowest amount were Denver, Austin, and Memphis. Memphis especially, as I remember hearing that it was one of the worst cities for criminal activity. The totals for crime in New York City, San Francisco, and Chicago weren't all that surprising to me admittedly. \n",
    "\n",
    "In the end, there is more I wish I could have done with the analysis, including separating out the types of crime and getting more in depth into those numbers, but I'm happy with the work that I've done for this portion of the assignment."
   ]
  },
  {
   "cell_type": "code",
   "execution_count": 1,
   "id": "54afc2d6-e8e8-4e28-b3dd-b37cf6f090d9",
   "metadata": {},
   "outputs": [],
   "source": [
    "#Import Modules\n",
    "import csv\n",
    "import matplotlib.pyplot as plt\n",
    "from scipy import stats\n",
    "import pandas as pd\n",
    "import numpy as np"
   ]
  },
  {
   "cell_type": "code",
   "execution_count": 2,
   "id": "1030167d-f814-4807-9ab9-37ade177f9f8",
   "metadata": {},
   "outputs": [],
   "source": [
    "#Read in CSV's and assign to variables\n",
    "austin_crime = pd.read_csv(\"./crime-resources/austin_crime.csv\",low_memory=False)\n",
    "chicago_crime = pd.read_csv(\"./crime-resources/chicago_crime.csv\",low_memory=False)\n",
    "denver_crime = pd.read_csv(\"./crime-resources/denver_crime.csv\",low_memory=False,encoding = 'unicode_escape')\n",
    "memphis_crime = pd.read_csv(\"./crime-resources/memphis_crime.csv\",low_memory=False)\n",
    "ny_crime_historic = pd.read_csv(\"./crime-resources/ny_crime_historic.csv\",low_memory=False)\n",
    "sf_crime = pd.read_csv(\"./crime-resources/sf_crime.csv\",low_memory=False)\n",
    "\n",
    "#Declaring population values for each city from Cory\n",
    "austin_2020_pop = 1654166\n",
    "austin_2021_pop = 1640207\n",
    "\n",
    "chicago_2020_pop = 8609757\n",
    "chicago_2021_pop = 8728576\n",
    "\n",
    "denver_2020_pop = 2691678\n",
    "denver_2021_pop = 2687114\n",
    "\n",
    "memphis_2020_pop = 1078205\n",
    "memphis_2021_pop = 1069048\n",
    "\n",
    "ny_2020_pop = 18714184\n",
    "ny_2021_pop = 19441575\n",
    "\n",
    "sf_2020_pop = 3532003\n",
    "sf_2021_pop = 3540396"
   ]
  },
  {
   "cell_type": "code",
   "execution_count": 3,
   "id": "6c0a2b76-542b-4b3e-9825-c9a7d6c25fce",
   "metadata": {},
   "outputs": [
    {
     "data": {
      "text/plain": [
       "Index(['Incident Number', 'Highest Offense Description',\n",
       "       'Highest Offense Code', 'Family Violence', 'Occurred Date Time',\n",
       "       'Occurred Date', 'Occurred Time', 'Report Date Time', 'Report Date',\n",
       "       'Report Time', 'Location Type', 'Address', 'Zip Code',\n",
       "       'Council District', 'APD Sector', 'APD District', 'PRA', 'Census Tract',\n",
       "       'Clearance Status', 'Clearance Date', 'UCR Category',\n",
       "       'Category Description', 'X-coordinate', 'Y-coordinate', 'Latitude',\n",
       "       'Longitude', 'Location'],\n",
       "      dtype='object')"
      ]
     },
     "execution_count": 3,
     "metadata": {},
     "output_type": "execute_result"
    }
   ],
   "source": [
    "austin_crime.columns"
   ]
  },
  {
   "cell_type": "code",
   "execution_count": 4,
   "id": "110fd842-f737-4200-a714-b97a90d3ec0e",
   "metadata": {},
   "outputs": [
    {
     "data": {
      "text/html": [
       "<div>\n",
       "<style scoped>\n",
       "    .dataframe tbody tr th:only-of-type {\n",
       "        vertical-align: middle;\n",
       "    }\n",
       "\n",
       "    .dataframe tbody tr th {\n",
       "        vertical-align: top;\n",
       "    }\n",
       "\n",
       "    .dataframe thead th {\n",
       "        text-align: right;\n",
       "    }\n",
       "</style>\n",
       "<table border=\"1\" class=\"dataframe\">\n",
       "  <thead>\n",
       "    <tr style=\"text-align: right;\">\n",
       "      <th></th>\n",
       "      <th>Highest Offense Description</th>\n",
       "      <th>Occurred Date</th>\n",
       "    </tr>\n",
       "  </thead>\n",
       "  <tbody>\n",
       "    <tr>\n",
       "      <th>0</th>\n",
       "      <td>FAMILY DISTURBANCE</td>\n",
       "      <td>02/16/2006</td>\n",
       "    </tr>\n",
       "    <tr>\n",
       "      <th>1</th>\n",
       "      <td>FAMILY DISTURBANCE</td>\n",
       "      <td>11/26/2017</td>\n",
       "    </tr>\n",
       "    <tr>\n",
       "      <th>2</th>\n",
       "      <td>TAMPERING WITH ID NUMBER</td>\n",
       "      <td>09/14/2004</td>\n",
       "    </tr>\n",
       "    <tr>\n",
       "      <th>3</th>\n",
       "      <td>FAMILY DISTURBANCE</td>\n",
       "      <td>04/06/2006</td>\n",
       "    </tr>\n",
       "    <tr>\n",
       "      <th>4</th>\n",
       "      <td>SEXUAL ASSAULT OF CHILD/OBJECT</td>\n",
       "      <td>01/01/2009</td>\n",
       "    </tr>\n",
       "  </tbody>\n",
       "</table>\n",
       "</div>"
      ],
      "text/plain": [
       "      Highest Offense Description Occurred Date\n",
       "0              FAMILY DISTURBANCE    02/16/2006\n",
       "1              FAMILY DISTURBANCE    11/26/2017\n",
       "2        TAMPERING WITH ID NUMBER    09/14/2004\n",
       "3              FAMILY DISTURBANCE    04/06/2006\n",
       "4  SEXUAL ASSAULT OF CHILD/OBJECT    01/01/2009"
      ]
     },
     "execution_count": 4,
     "metadata": {},
     "output_type": "execute_result"
    }
   ],
   "source": [
    "#Gathering needed Column information and setting to DataFrame\n",
    "austin_df = austin_crime.drop(columns=['Incident Number', 'Highest Offense Code', 'Family Violence', 'Occurred Date Time',\n",
    "                                       'Occurred Time', 'Report Date Time', 'Report Date', 'Report Time', 'Location Type',\n",
    "                                       'Address', 'Zip Code', 'Council District', 'APD Sector', 'APD District','PRA', 'Census Tract',\n",
    "                                       'Clearance Status', 'Clearance Date', 'UCR Category','Category Description', 'X-coordinate', \n",
    "                                       'Y-coordinate', 'Latitude', 'Longitude', 'Location'])\n",
    "austin_df.head()"
   ]
  },
  {
   "cell_type": "code",
   "execution_count": 5,
   "id": "b78e4f52-c6e0-4fc9-a119-33cb216c5c16",
   "metadata": {},
   "outputs": [
    {
     "data": {
      "text/plain": [
       "Index(['ID', 'Case Number', 'Date', 'Block', 'IUCR', 'Primary Type',\n",
       "       'Description', 'Location Description', 'Arrest', 'Domestic', 'Beat',\n",
       "       'District', 'Ward', 'Community Area', 'FBI Code', 'X Coordinate',\n",
       "       'Y Coordinate', 'Year', 'Updated On', 'Latitude', 'Longitude',\n",
       "       'Location'],\n",
       "      dtype='object')"
      ]
     },
     "execution_count": 5,
     "metadata": {},
     "output_type": "execute_result"
    }
   ],
   "source": [
    "chicago_crime.columns"
   ]
  },
  {
   "cell_type": "code",
   "execution_count": 6,
   "id": "39fa23cf-0747-46a2-8e50-557e3ffa3e15",
   "metadata": {},
   "outputs": [
    {
     "data": {
      "text/html": [
       "<div>\n",
       "<style scoped>\n",
       "    .dataframe tbody tr th:only-of-type {\n",
       "        vertical-align: middle;\n",
       "    }\n",
       "\n",
       "    .dataframe tbody tr th {\n",
       "        vertical-align: top;\n",
       "    }\n",
       "\n",
       "    .dataframe thead th {\n",
       "        text-align: right;\n",
       "    }\n",
       "</style>\n",
       "<table border=\"1\" class=\"dataframe\">\n",
       "  <thead>\n",
       "    <tr style=\"text-align: right;\">\n",
       "      <th></th>\n",
       "      <th>Primary Type</th>\n",
       "      <th>Year</th>\n",
       "    </tr>\n",
       "  </thead>\n",
       "  <tbody>\n",
       "    <tr>\n",
       "      <th>0</th>\n",
       "      <td>THEFT</td>\n",
       "      <td>2018</td>\n",
       "    </tr>\n",
       "    <tr>\n",
       "      <th>1</th>\n",
       "      <td>DECEPTIVE PRACTICE</td>\n",
       "      <td>2016</td>\n",
       "    </tr>\n",
       "    <tr>\n",
       "      <th>2</th>\n",
       "      <td>SEX OFFENSE</td>\n",
       "      <td>2017</td>\n",
       "    </tr>\n",
       "    <tr>\n",
       "      <th>3</th>\n",
       "      <td>BATTERY</td>\n",
       "      <td>2001</td>\n",
       "    </tr>\n",
       "    <tr>\n",
       "      <th>4</th>\n",
       "      <td>DECEPTIVE PRACTICE</td>\n",
       "      <td>2015</td>\n",
       "    </tr>\n",
       "  </tbody>\n",
       "</table>\n",
       "</div>"
      ],
      "text/plain": [
       "         Primary Type  Year\n",
       "0               THEFT  2018\n",
       "1  DECEPTIVE PRACTICE  2016\n",
       "2         SEX OFFENSE  2017\n",
       "3             BATTERY  2001\n",
       "4  DECEPTIVE PRACTICE  2015"
      ]
     },
     "execution_count": 6,
     "metadata": {},
     "output_type": "execute_result"
    }
   ],
   "source": [
    "#Gathering needed Column information and setting to DataFrame\n",
    "chicago_df = chicago_crime.drop(columns=['ID', 'Case Number', 'Block', 'IUCR',\n",
    "                                         'Location Description', 'Arrest', 'Domestic', 'Beat',\n",
    "                                         'District', 'Ward', 'Community Area', 'FBI Code', 'X Coordinate',\n",
    "                                         'Y Coordinate', 'Updated On', 'Latitude', 'Longitude','Location', 'Description', 'Date'])\n",
    "chicago_df.head()"
   ]
  },
  {
   "cell_type": "code",
   "execution_count": 7,
   "id": "93bfc3f2-925c-4aa3-b226-5ccc6aa65566",
   "metadata": {},
   "outputs": [
    {
     "data": {
      "text/plain": [
       "Index(['incident_id', 'offense_id', 'offense_code', 'offense_code_extension',\n",
       "       'offense_type_id', 'offense_category_id', 'first_occurrence_date',\n",
       "       'last_occurrence_date', 'reported_date', 'incident_address', 'geo_x',\n",
       "       'geo_y', 'geo_lon', 'geo_lat', 'district_id', 'precinct_id',\n",
       "       'neighborhood_id', 'is_crime', 'is_traffic', 'victim_count'],\n",
       "      dtype='object')"
      ]
     },
     "execution_count": 7,
     "metadata": {},
     "output_type": "execute_result"
    }
   ],
   "source": [
    "denver_crime.columns"
   ]
  },
  {
   "cell_type": "code",
   "execution_count": 8,
   "id": "04e97a2c-f388-46d1-a54c-bec2ee8c06ac",
   "metadata": {},
   "outputs": [
    {
     "data": {
      "text/html": [
       "<div>\n",
       "<style scoped>\n",
       "    .dataframe tbody tr th:only-of-type {\n",
       "        vertical-align: middle;\n",
       "    }\n",
       "\n",
       "    .dataframe tbody tr th {\n",
       "        vertical-align: top;\n",
       "    }\n",
       "\n",
       "    .dataframe thead th {\n",
       "        text-align: right;\n",
       "    }\n",
       "</style>\n",
       "<table border=\"1\" class=\"dataframe\">\n",
       "  <thead>\n",
       "    <tr style=\"text-align: right;\">\n",
       "      <th></th>\n",
       "      <th>offense_type_id</th>\n",
       "      <th>first_occurrence_date</th>\n",
       "    </tr>\n",
       "  </thead>\n",
       "  <tbody>\n",
       "    <tr>\n",
       "      <th>0</th>\n",
       "      <td>criminal-mischief-other</td>\n",
       "      <td>2/10/2022 2:50:00 AM</td>\n",
       "    </tr>\n",
       "    <tr>\n",
       "      <th>1</th>\n",
       "      <td>criminal-mischief-other</td>\n",
       "      <td>7/7/2021 9:02:00 PM</td>\n",
       "    </tr>\n",
       "    <tr>\n",
       "      <th>2</th>\n",
       "      <td>criminal-mischief-other</td>\n",
       "      <td>10/29/2020 1:30:00 AM</td>\n",
       "    </tr>\n",
       "    <tr>\n",
       "      <th>3</th>\n",
       "      <td>criminal-mischief-other</td>\n",
       "      <td>9/6/2018 5:00:00 PM</td>\n",
       "    </tr>\n",
       "    <tr>\n",
       "      <th>4</th>\n",
       "      <td>criminal-mischief-other</td>\n",
       "      <td>5/8/2020 5:00:00 AM</td>\n",
       "    </tr>\n",
       "  </tbody>\n",
       "</table>\n",
       "</div>"
      ],
      "text/plain": [
       "           offense_type_id  first_occurrence_date\n",
       "0  criminal-mischief-other   2/10/2022 2:50:00 AM\n",
       "1  criminal-mischief-other    7/7/2021 9:02:00 PM\n",
       "2  criminal-mischief-other  10/29/2020 1:30:00 AM\n",
       "3  criminal-mischief-other    9/6/2018 5:00:00 PM\n",
       "4  criminal-mischief-other    5/8/2020 5:00:00 AM"
      ]
     },
     "execution_count": 8,
     "metadata": {},
     "output_type": "execute_result"
    }
   ],
   "source": [
    "#Gathering needed Column information and setting to DataFrame\n",
    "denver_df = denver_crime.drop(columns=['incident_id', 'offense_id', 'offense_code', 'offense_code_extension',\n",
    "                                       'last_occurrence_date', 'reported_date','incident_address', 'geo_x','geo_y',\n",
    "                                       'geo_lon', 'geo_lat','district_id', 'precinct_id','neighborhood_id', 'is_crime', 'is_traffic', 'victim_count', 'offense_category_id'])\n",
    "denver_df.head()"
   ]
  },
  {
   "cell_type": "code",
   "execution_count": 9,
   "id": "96a397fc-7c7e-4356-b5de-58561210bb3f",
   "metadata": {},
   "outputs": [
    {
     "data": {
      "text/plain": [
       "Index(['crime_id', 'offense_date', 'agency_crimetype_id', 'city', 'state',\n",
       "       'coord1', 'coord2', '100 Block Address', 'Location', 'Category',\n",
       "       'Shelby County Zip Codes', 'Memphis 3.0 Planning Districts',\n",
       "       'City Council Districts', 'City Council Super Districts',\n",
       "       'Community Neighborhoods Boundaries',\n",
       "       'Community Neighborhoods Boundaries 1',\n",
       "       'Community Neighborhoods Boundaries 2',\n",
       "       'Memphis Police Department Wards',\n",
       "       'Memphis Police Department Districts',\n",
       "       'Memphis Police Department Stations',\n",
       "       'Mid-South Fairgrounds Half Mile Buffer',\n",
       "       'Crosstown Concourse Half Mile Buffer',\n",
       "       'Council District Boundaries Dec 2022',\n",
       "       'Council Super District Boundaries Dec 2022'],\n",
       "      dtype='object')"
      ]
     },
     "execution_count": 9,
     "metadata": {},
     "output_type": "execute_result"
    }
   ],
   "source": [
    "memphis_crime.columns"
   ]
  },
  {
   "cell_type": "code",
   "execution_count": 10,
   "id": "e719ed0f-6bac-4597-b78d-c46858f270cb",
   "metadata": {},
   "outputs": [
    {
     "data": {
      "text/html": [
       "<div>\n",
       "<style scoped>\n",
       "    .dataframe tbody tr th:only-of-type {\n",
       "        vertical-align: middle;\n",
       "    }\n",
       "\n",
       "    .dataframe tbody tr th {\n",
       "        vertical-align: top;\n",
       "    }\n",
       "\n",
       "    .dataframe thead th {\n",
       "        text-align: right;\n",
       "    }\n",
       "</style>\n",
       "<table border=\"1\" class=\"dataframe\">\n",
       "  <thead>\n",
       "    <tr style=\"text-align: right;\">\n",
       "      <th></th>\n",
       "      <th>offense_date</th>\n",
       "      <th>Category</th>\n",
       "    </tr>\n",
       "  </thead>\n",
       "  <tbody>\n",
       "    <tr>\n",
       "      <th>0</th>\n",
       "      <td>09/13/2013 09:00:00 PM</td>\n",
       "      <td>Theft</td>\n",
       "    </tr>\n",
       "    <tr>\n",
       "      <th>1</th>\n",
       "      <td>01/04/2013 06:00:00 PM</td>\n",
       "      <td>Assault</td>\n",
       "    </tr>\n",
       "    <tr>\n",
       "      <th>2</th>\n",
       "      <td>01/04/2006 05:45:00 AM</td>\n",
       "      <td>Assault</td>\n",
       "    </tr>\n",
       "    <tr>\n",
       "      <th>3</th>\n",
       "      <td>01/07/2006 08:00:00 AM</td>\n",
       "      <td>Theft of Vehicle</td>\n",
       "    </tr>\n",
       "    <tr>\n",
       "      <th>4</th>\n",
       "      <td>01/27/2013 01:30:00 PM</td>\n",
       "      <td>Assault</td>\n",
       "    </tr>\n",
       "  </tbody>\n",
       "</table>\n",
       "</div>"
      ],
      "text/plain": [
       "             offense_date          Category\n",
       "0  09/13/2013 09:00:00 PM             Theft\n",
       "1  01/04/2013 06:00:00 PM           Assault\n",
       "2  01/04/2006 05:45:00 AM           Assault\n",
       "3  01/07/2006 08:00:00 AM  Theft of Vehicle\n",
       "4  01/27/2013 01:30:00 PM           Assault"
      ]
     },
     "execution_count": 10,
     "metadata": {},
     "output_type": "execute_result"
    }
   ],
   "source": [
    "#Gathering needed Column information and setting to DataFrame\n",
    "memphis_df = memphis_crime.drop(columns=['crime_id', 'city', 'state', 'coord1', 'coord2', '100 Block Address', 'Location', 'agency_crimetype_id', \n",
    "                                         'Shelby County Zip Codes', 'Memphis 3.0 Planning Districts',\n",
    "                                         'City Council Districts', 'City Council Super Districts',\n",
    "                                         'Community Neighborhoods Boundaries','Community Neighborhoods Boundaries 1','Community Neighborhoods Boundaries 2',\n",
    "                                         'Memphis Police Department Wards','Memphis Police Department Districts',\n",
    "                                         'Memphis Police Department Stations','Mid-South Fairgrounds Half Mile Buffer',\n",
    "                                         'Crosstown Concourse Half Mile Buffer','Council District Boundaries Dec 2022','Council Super District Boundaries Dec 2022'])\n",
    "memphis_df.head()"
   ]
  },
  {
   "cell_type": "code",
   "execution_count": 11,
   "id": "e9fa0f39-b12e-4455-9e82-ad94ea54b346",
   "metadata": {},
   "outputs": [
    {
     "data": {
      "text/plain": [
       "Index(['ARREST_KEY', 'ARREST_DATE', 'PD_CD', 'PD_DESC', 'KY_CD', 'OFNS_DESC',\n",
       "       'LAW_CODE', 'LAW_CAT_CD', 'ARREST_BORO', 'ARREST_PRECINCT',\n",
       "       'JURISDICTION_CODE', 'AGE_GROUP', 'PERP_SEX', 'PERP_RACE', 'X_COORD_CD',\n",
       "       'Y_COORD_CD', 'Latitude', 'Longitude', 'Lon_Lat'],\n",
       "      dtype='object')"
      ]
     },
     "execution_count": 11,
     "metadata": {},
     "output_type": "execute_result"
    }
   ],
   "source": [
    "ny_crime_historic.columns"
   ]
  },
  {
   "cell_type": "code",
   "execution_count": 12,
   "id": "341ebeff-ea83-456d-8ebe-3010f7ecc1ed",
   "metadata": {},
   "outputs": [
    {
     "data": {
      "text/html": [
       "<div>\n",
       "<style scoped>\n",
       "    .dataframe tbody tr th:only-of-type {\n",
       "        vertical-align: middle;\n",
       "    }\n",
       "\n",
       "    .dataframe tbody tr th {\n",
       "        vertical-align: top;\n",
       "    }\n",
       "\n",
       "    .dataframe thead th {\n",
       "        text-align: right;\n",
       "    }\n",
       "</style>\n",
       "<table border=\"1\" class=\"dataframe\">\n",
       "  <thead>\n",
       "    <tr style=\"text-align: right;\">\n",
       "      <th></th>\n",
       "      <th>ARREST_DATE</th>\n",
       "      <th>PD_DESC</th>\n",
       "    </tr>\n",
       "  </thead>\n",
       "  <tbody>\n",
       "    <tr>\n",
       "      <th>0</th>\n",
       "      <td>11/22/2021</td>\n",
       "      <td>NaN</td>\n",
       "    </tr>\n",
       "    <tr>\n",
       "      <th>1</th>\n",
       "      <td>12/04/2021</td>\n",
       "      <td>RAPE 3</td>\n",
       "    </tr>\n",
       "    <tr>\n",
       "      <th>2</th>\n",
       "      <td>11/09/2021</td>\n",
       "      <td>CHILD, ENDANGERING WELFARE</td>\n",
       "    </tr>\n",
       "    <tr>\n",
       "      <th>3</th>\n",
       "      <td>06/18/2007</td>\n",
       "      <td>CONTROLLED SUBSTANCE, POSSESSION 7</td>\n",
       "    </tr>\n",
       "    <tr>\n",
       "      <th>4</th>\n",
       "      <td>01/26/2019</td>\n",
       "      <td>SEXUAL ABUSE</td>\n",
       "    </tr>\n",
       "    <tr>\n",
       "      <th>...</th>\n",
       "      <td>...</td>\n",
       "      <td>...</td>\n",
       "    </tr>\n",
       "    <tr>\n",
       "      <th>5498645</th>\n",
       "      <td>12/13/2022</td>\n",
       "      <td>TRAFFIC,UNCLASSIFIED INFRACTIO</td>\n",
       "    </tr>\n",
       "    <tr>\n",
       "      <th>5498646</th>\n",
       "      <td>12/16/2022</td>\n",
       "      <td>CRIMINAL CONTEMPT 1</td>\n",
       "    </tr>\n",
       "    <tr>\n",
       "      <th>5498647</th>\n",
       "      <td>12/20/2022</td>\n",
       "      <td>GAMBLING, DEVICE, POSSESSION</td>\n",
       "    </tr>\n",
       "    <tr>\n",
       "      <th>5498648</th>\n",
       "      <td>12/13/2022</td>\n",
       "      <td>ASSAULT 3</td>\n",
       "    </tr>\n",
       "    <tr>\n",
       "      <th>5498649</th>\n",
       "      <td>12/29/2022</td>\n",
       "      <td>LARCENY,PETIT FROM OPEN AREAS,</td>\n",
       "    </tr>\n",
       "  </tbody>\n",
       "</table>\n",
       "<p>5498650 rows × 2 columns</p>\n",
       "</div>"
      ],
      "text/plain": [
       "        ARREST_DATE                             PD_DESC\n",
       "0        11/22/2021                                 NaN\n",
       "1        12/04/2021                              RAPE 3\n",
       "2        11/09/2021          CHILD, ENDANGERING WELFARE\n",
       "3        06/18/2007  CONTROLLED SUBSTANCE, POSSESSION 7\n",
       "4        01/26/2019                        SEXUAL ABUSE\n",
       "...             ...                                 ...\n",
       "5498645  12/13/2022      TRAFFIC,UNCLASSIFIED INFRACTIO\n",
       "5498646  12/16/2022                 CRIMINAL CONTEMPT 1\n",
       "5498647  12/20/2022        GAMBLING, DEVICE, POSSESSION\n",
       "5498648  12/13/2022                           ASSAULT 3\n",
       "5498649  12/29/2022      LARCENY,PETIT FROM OPEN AREAS,\n",
       "\n",
       "[5498650 rows x 2 columns]"
      ]
     },
     "execution_count": 12,
     "metadata": {},
     "output_type": "execute_result"
    }
   ],
   "source": [
    "#Gathering needed Column information and setting to DataFrame\n",
    "ny_df = ny_crime_historic.drop(columns=['ARREST_KEY', 'PD_CD', 'KY_CD',\n",
    "                                        'LAW_CODE', 'LAW_CAT_CD', 'ARREST_BORO', 'ARREST_PRECINCT',\n",
    "                                        'JURISDICTION_CODE', 'AGE_GROUP', 'PERP_SEX', 'PERP_RACE', 'X_COORD_CD',\n",
    "                                        'Y_COORD_CD', 'Latitude', 'Longitude', 'Lon_Lat', 'OFNS_DESC'])\n",
    "ny_df"
   ]
  },
  {
   "cell_type": "code",
   "execution_count": 13,
   "id": "9e5cc2cd-d91b-4f0e-9df6-4a982a72fb4e",
   "metadata": {},
   "outputs": [
    {
     "data": {
      "text/plain": [
       "Index(['Incident Datetime', 'Incident Date', 'Incident Time', 'Incident Year',\n",
       "       'Incident Day of Week', 'Report Datetime', 'Row ID', 'Incident ID',\n",
       "       'Incident Number', 'CAD Number', 'Report Type Code',\n",
       "       'Report Type Description', 'Filed Online', 'Incident Code',\n",
       "       'Incident Category', 'Incident Subcategory', 'Incident Description',\n",
       "       'Resolution', 'Intersection', 'CNN', 'Police District',\n",
       "       'Analysis Neighborhood', 'Supervisor District',\n",
       "       'Supervisor District 2012', 'Latitude', 'Longitude', 'Point',\n",
       "       'Neighborhoods', 'ESNCAG - Boundary File',\n",
       "       'Central Market/Tenderloin Boundary Polygon - Updated',\n",
       "       'Civic Center Harm Reduction Project Boundary',\n",
       "       'HSOC Zones as of 2018-06-05', 'Invest In Neighborhoods (IIN) Areas',\n",
       "       'Current Supervisor Districts', 'Current Police Districts'],\n",
       "      dtype='object')"
      ]
     },
     "execution_count": 13,
     "metadata": {},
     "output_type": "execute_result"
    }
   ],
   "source": [
    "sf_crime.columns"
   ]
  },
  {
   "cell_type": "code",
   "execution_count": 14,
   "id": "235396d1-0520-40f3-8d84-739e81334f53",
   "metadata": {},
   "outputs": [
    {
     "data": {
      "text/html": [
       "<div>\n",
       "<style scoped>\n",
       "    .dataframe tbody tr th:only-of-type {\n",
       "        vertical-align: middle;\n",
       "    }\n",
       "\n",
       "    .dataframe tbody tr th {\n",
       "        vertical-align: top;\n",
       "    }\n",
       "\n",
       "    .dataframe thead th {\n",
       "        text-align: right;\n",
       "    }\n",
       "</style>\n",
       "<table border=\"1\" class=\"dataframe\">\n",
       "  <thead>\n",
       "    <tr style=\"text-align: right;\">\n",
       "      <th></th>\n",
       "      <th>Incident Year</th>\n",
       "      <th>Incident Category</th>\n",
       "    </tr>\n",
       "  </thead>\n",
       "  <tbody>\n",
       "    <tr>\n",
       "      <th>0</th>\n",
       "      <td>2023</td>\n",
       "      <td>Recovered Vehicle</td>\n",
       "    </tr>\n",
       "    <tr>\n",
       "      <th>1</th>\n",
       "      <td>2023</td>\n",
       "      <td>Larceny Theft</td>\n",
       "    </tr>\n",
       "    <tr>\n",
       "      <th>2</th>\n",
       "      <td>2023</td>\n",
       "      <td>Recovered Vehicle</td>\n",
       "    </tr>\n",
       "    <tr>\n",
       "      <th>3</th>\n",
       "      <td>2023</td>\n",
       "      <td>Recovered Vehicle</td>\n",
       "    </tr>\n",
       "    <tr>\n",
       "      <th>4</th>\n",
       "      <td>2023</td>\n",
       "      <td>Recovered Vehicle</td>\n",
       "    </tr>\n",
       "  </tbody>\n",
       "</table>\n",
       "</div>"
      ],
      "text/plain": [
       "   Incident Year  Incident Category\n",
       "0           2023  Recovered Vehicle\n",
       "1           2023      Larceny Theft\n",
       "2           2023  Recovered Vehicle\n",
       "3           2023  Recovered Vehicle\n",
       "4           2023  Recovered Vehicle"
      ]
     },
     "execution_count": 14,
     "metadata": {},
     "output_type": "execute_result"
    }
   ],
   "source": [
    "#Gathering needed Column information and setting to DataFrame\n",
    "sf_df = sf_crime.drop(columns=['Incident Datetime', 'Incident Time',\n",
    "                                'Incident Day of Week', 'Report Datetime', 'Row ID', 'Incident ID',\n",
    "                                'Incident Number', 'CAD Number', 'Report Type Code',\n",
    "                                'Report Type Description', 'Filed Online', 'Incident Code',\n",
    "                                'Incident Subcategory', 'Incident Description',\n",
    "                                'Resolution', 'Intersection', 'CNN', 'Police District',\n",
    "                                'Analysis Neighborhood', 'Supervisor District',\n",
    "                                'Supervisor District 2012', 'Latitude', 'Longitude', 'Point',\n",
    "                                'Neighborhoods', 'ESNCAG - Boundary File',\n",
    "                                'Central Market/Tenderloin Boundary Polygon - Updated',\n",
    "                                'Civic Center Harm Reduction Project Boundary',\n",
    "                                'HSOC Zones as of 2018-06-05', 'Invest In Neighborhoods (IIN) Areas',\n",
    "                                'Current Supervisor Districts', 'Current Police Districts', 'Incident Date'])\n",
    "sf_df.head()"
   ]
  },
  {
   "cell_type": "code",
   "execution_count": 15,
   "id": "4264afd1-26c4-40cc-951f-e27042702c98",
   "metadata": {
    "tags": []
   },
   "outputs": [],
   "source": [
    "#Renaming Columns to be consistent\n",
    "austin_df = austin_df.rename(columns={\"Highest Offense Description\":\"Crime\", \"Occurred Date\":\"Date\"})"
   ]
  },
  {
   "cell_type": "code",
   "execution_count": 16,
   "id": "c2a87e0b-e5ad-4b62-93ee-8e769ee3d856",
   "metadata": {},
   "outputs": [],
   "source": [
    "chicago_df=chicago_df.rename(columns={\"Year\":\"Year\", \"Primary Type\":\"Crime\"})"
   ]
  },
  {
   "cell_type": "code",
   "execution_count": 17,
   "id": "04874cdb-4902-44c4-8c16-e55fdacd9480",
   "metadata": {},
   "outputs": [],
   "source": [
    "denver_df=denver_df.rename(columns={\"offense_type_id\":\"Crime\", \"first_occurrence_date\":\"Date\"})"
   ]
  },
  {
   "cell_type": "code",
   "execution_count": 18,
   "id": "2e6d2736-194b-4141-ab06-2bcde23aea6d",
   "metadata": {},
   "outputs": [],
   "source": [
    "memphis_df=memphis_df.rename(columns={\"offense_date\":\"Date\", \"Category\":\"Crime\"})"
   ]
  },
  {
   "cell_type": "code",
   "execution_count": 19,
   "id": "99bba328-539a-4642-8f4f-260f3de854d9",
   "metadata": {},
   "outputs": [],
   "source": [
    "ny_df=ny_df.rename(columns={\"ARREST_DATE\":\"Date\", \"PD_DESC\":\"Crime\"})"
   ]
  },
  {
   "cell_type": "code",
   "execution_count": 20,
   "id": "b93fb260-d19b-43ea-9b73-e4e5e370bd9a",
   "metadata": {},
   "outputs": [],
   "source": [
    "sf_df=sf_df.rename(columns={\"Incident Year\":\"Year\", \"Incident Category\":\"Crime\"})"
   ]
  },
  {
   "cell_type": "code",
   "execution_count": 21,
   "id": "0f011abc-ccc1-423e-b449-30b7e515c8fc",
   "metadata": {},
   "outputs": [],
   "source": [
    "#Dropping NaN values, converting (null) to NaN to drop as well\n",
    "austin_df['Crime'].replace('(null)', np.nan, inplace=True)\n",
    "austin_df.dropna(inplace=True)"
   ]
  },
  {
   "cell_type": "code",
   "execution_count": 22,
   "id": "f5ecc461-1368-4f87-a8c5-799dda6fcc1d",
   "metadata": {},
   "outputs": [],
   "source": [
    "chicago_df['Crime'].replace('(null)', np.nan, inplace=True)\n",
    "chicago_df.dropna(inplace=True)"
   ]
  },
  {
   "cell_type": "code",
   "execution_count": 23,
   "id": "73b28a55-156b-40c7-be6f-35da3e26d72c",
   "metadata": {},
   "outputs": [],
   "source": [
    "denver_df['Crime'].replace('(null)', np.nan, inplace=True)\n",
    "denver_df.dropna(inplace=True)"
   ]
  },
  {
   "cell_type": "code",
   "execution_count": 24,
   "id": "36a77999-f611-40a5-bd30-c5380faba8ce",
   "metadata": {},
   "outputs": [],
   "source": [
    "memphis_df['Crime'].replace('(null)', np.nan, inplace=True)\n",
    "memphis_df.dropna(inplace=True)"
   ]
  },
  {
   "cell_type": "code",
   "execution_count": 25,
   "id": "8a693a29-2b2e-4b48-b85e-094545ccc16e",
   "metadata": {},
   "outputs": [],
   "source": [
    "ny_df['Crime'].replace('(null)', np.nan, inplace=True)\n",
    "ny_df.dropna(inplace=True)"
   ]
  },
  {
   "cell_type": "code",
   "execution_count": 26,
   "id": "3913cd2b-e7ec-4b8d-92c5-a8f725fa6c0a",
   "metadata": {},
   "outputs": [],
   "source": [
    "sf_df['Crime'].replace('(null)', np.nan, inplace=True)\n",
    "sf_df.dropna(inplace=True)"
   ]
  },
  {
   "cell_type": "code",
   "execution_count": 27,
   "id": "9d299c9d-1aa1-4eeb-b98e-60e5f3c68a56",
   "metadata": {},
   "outputs": [],
   "source": [
    "#Getting the information from 2020-2022 for each city\n",
    "years_needed = [2020, 2021, 2022]\n",
    "\n",
    "#Austin\n",
    "austin_df['Date'] = pd.to_datetime(austin_df['Date'])\n",
    "austin_df['Year'] = austin_df['Date'].dt.year\n",
    "austin_year_df = dict(tuple(austin_df.groupby('Year')))\n",
    "austin_crime_2020 = austin_year_df[2020]\n",
    "austin_crime_2021 = austin_year_df[2021]\n",
    "austin_crime_2022 = austin_year_df[2022]\n",
    "\n",
    "#Chicago\n",
    "chicago_df = chicago_df[chicago_df['Year'].isin(years_needed)]\n",
    "chicago_year_df = dict(tuple(chicago_df.groupby('Year')))\n",
    "chicago_crime_2020 = chicago_year_df[2020]\n",
    "chicago_crime_2021 = chicago_year_df[2021]\n",
    "chicago_crime_2022 = chicago_year_df[2022]\n",
    "\n",
    "#Denver\n",
    "denver_df['Date'] = pd.to_datetime(denver_df['Date'])\n",
    "denver_df['Year'] = denver_df['Date'].dt.year\n",
    "denver_year_df = dict(tuple(denver_df.groupby('Year')))\n",
    "denver_crime_2020 = denver_year_df[2020]\n",
    "denver_crime_2021 = denver_year_df[2021]\n",
    "denver_crime_2022 = denver_year_df[2022]\n",
    "\n",
    "#Memphis\n",
    "memphis_df['Date'] = pd.to_datetime(memphis_df['Date'])\n",
    "memphis_df['Year'] = memphis_df['Date'].dt.year\n",
    "memphis_year_df = dict(tuple(memphis_df.groupby('Year')))\n",
    "memphis_crime_2020 = memphis_year_df[2020]\n",
    "memphis_crime_2021 = memphis_year_df[2021]\n",
    "memphis_crime_2022 = memphis_year_df[2022]\n",
    "\n",
    "#New York City\n",
    "ny_df['Date'] = pd.to_datetime(ny_df['Date'])\n",
    "ny_df['Year'] = ny_df['Date'].dt.year\n",
    "ny_year_df = dict(tuple(ny_df.groupby('Year')))\n",
    "ny_crime_2020 = ny_year_df[2020]\n",
    "ny_crime_2021 = ny_year_df[2021]\n",
    "ny_crime_2022 = ny_year_df[2022]\n",
    "\n",
    "#San Francisco\n",
    "sf_df = sf_df[sf_df['Year'].isin(years_needed)]\n",
    "sf_year_df = dict(tuple(sf_df.groupby('Year')))\n",
    "sf_crime_2020 = sf_year_df[2020]\n",
    "sf_crime_2021 = sf_year_df[2021]\n",
    "sf_crime_2022 = sf_year_df[2022]"
   ]
  },
  {
   "cell_type": "code",
   "execution_count": 28,
   "id": "f02a1ac1-71aa-4857-81cf-3f536a8fd9b4",
   "metadata": {},
   "outputs": [],
   "source": [
    "#Gathering total number of crimes in each city for 2020-2022\n",
    "crime_data = {\n",
    "    'Austin': {\n",
    "        2020: austin_crime_2020,\n",
    "        2021: austin_crime_2021,\n",
    "        2022: austin_crime_2022\n",
    "    },\n",
    "    'Chicago': {\n",
    "        2020: chicago_crime_2020,\n",
    "        2021: chicago_crime_2021,\n",
    "        2022: chicago_crime_2022\n",
    "    },\n",
    "    'Denver': {\n",
    "        2020: denver_crime_2020,\n",
    "        2021: denver_crime_2021,\n",
    "        2022: denver_crime_2022\n",
    "    },\n",
    "    'Memphis': {\n",
    "        2020: memphis_crime_2020,\n",
    "        2021: memphis_crime_2021,\n",
    "        2022: memphis_crime_2022\n",
    "    },\n",
    "    'New York City': {\n",
    "        2020: ny_crime_2020,\n",
    "        2021: ny_crime_2021,\n",
    "        2022: ny_crime_2022\n",
    "    },\n",
    "    'San Francisco': {\n",
    "        2020: sf_crime_2020,\n",
    "        2021: sf_crime_2021,\n",
    "        2022: sf_crime_2022\n",
    "    }\n",
    "    \n",
    "}\n",
    "\n",
    "crime_totals = {}\n",
    "\n",
    "for city, years_data in crime_data.items():\n",
    "    total_crimes_by_year = {}\n",
    "    for year, crime_df in years_data.items():\n",
    "        total_crimes_by_year[year] = len(crime_df)\n",
    "    crime_totals[city] = total_crimes_by_year"
   ]
  },
  {
   "cell_type": "code",
   "execution_count": 29,
   "id": "7d7b3b0a-05db-49b9-9b69-60a78cb1f9ba",
   "metadata": {},
   "outputs": [
    {
     "data": {
      "image/png": "[encoded data removed]",
      "text/plain": [
       "<Figure size 1000x600 with 1 Axes>"
      ]
     },
     "metadata": {},
     "output_type": "display_data"
    }
   ],
   "source": [
    "#Creating bar chart for city comparison\n",
    "cities = list(crime_totals.keys())\n",
    "years = list(crime_totals[cities[0]].keys())\n",
    "\n",
    "x_pos = range(len(cities))\n",
    "\n",
    "bar_width = 0.3\n",
    "plt.figure(figsize=(10, 6))\n",
    "\n",
    "for i, year in enumerate(years):\n",
    "    total_crimes = [crime_totals[city][year] for city in cities]\n",
    "    x_pos_shifted = [pos + i * bar_width for pos in x_pos]\n",
    "    plt.bar(x_pos_shifted, total_crimes, width=bar_width, label=str(year))\n",
    "\n",
    "\n",
    "plt.xticks([pos + bar_width for pos in x_pos], cities, rotation=45, ha='right')\n",
    "plt.xlabel('Cities')\n",
    "plt.ylabel('Total Crimes')\n",
    "plt.title('Total Crimes by City and Year')\n",
    "\n",
    "plt.legend(title='Year', loc='best')\n",
    "\n",
    "y_ticks = range(0, max([max(crime_totals[city].values()) for city in cities]) + 50000, 50000)\n",
    "plt.yticks(y_ticks)\n",
    "\n",
    "plt.tight_layout()\n",
    "plt.savefig('./output_data/totalcrimebarchart.png')\n",
    "plt.show()"
   ]
  },
  {
   "cell_type": "code",
   "execution_count": 30,
   "id": "78e3435c-2de7-4d2d-a8ef-71ad549ae7f0",
   "metadata": {},
   "outputs": [],
   "source": [
    "#Calculating total crime rates for each city for years available\n",
    "\n",
    "austin_2020_crime_rate = len(austin_crime_2020) / austin_2020_pop * 100000\n",
    "austin_2021_crime_rate = len(austin_crime_2021) / austin_2021_pop * 100000\n",
    "\n",
    "chicago_2020_crime_rate = len(chicago_crime_2020) / chicago_2020_pop * 100000\n",
    "chicago_2021_crime_rate = len(chicago_crime_2021) / chicago_2021_pop * 100000\n",
    "\n",
    "denver_2020_crime_rate = len(denver_crime_2020) / denver_2020_pop * 100000\n",
    "denver_2021_crime_rate = len(denver_crime_2021) / denver_2021_pop * 100000\n",
    "\n",
    "memphis_2020_crime_rate = len(memphis_crime_2020) / memphis_2020_pop * 100000\n",
    "memphis_2021_crime_rate = len(memphis_crime_2021) / memphis_2021_pop * 100000\n",
    "\n",
    "ny_2020_crime_rate = len(ny_crime_2020) / ny_2020_pop * 100000\n",
    "ny_2021_crime_rate = len(ny_crime_2021) / ny_2021_pop * 100000\n",
    "\n",
    "sf_2020_crime_rate = len(sf_crime_2020) / sf_2020_pop * 100000\n",
    "sf_2021_crime_rate = len(sf_crime_2021) / sf_2021_pop * 100000"
   ]
  },
  {
   "cell_type": "code",
   "execution_count": 31,
   "id": "4bf065ab-ed7d-4f24-8361-cf3a15809630",
   "metadata": {},
   "outputs": [],
   "source": [
    "#Rounding values\n",
    "\n",
    "austin_2020_crime_rate = round(austin_2020_crime_rate, 2)\n",
    "austin_2021_crime_rate = round(austin_2021_crime_rate, 2)\n",
    "\n",
    "chicago_2020_crime_rate = round(chicago_2020_crime_rate, 2)\n",
    "chicago_2021_crime_rate = round(chicago_2021_crime_rate, 2)\n",
    "\n",
    "denver_2020_crime_rate = round(denver_2020_crime_rate, 2)\n",
    "denver_2021_crime_rate = round(denver_2021_crime_rate, 2)\n",
    "\n",
    "memphis_2020_crime_rate = round(memphis_2020_crime_rate, 2)\n",
    "memphis_2021_crime_rate = round(memphis_2021_crime_rate, 2)\n",
    "\n",
    "ny_2020_crime_rate = round(ny_2020_crime_rate, 2)\n",
    "ny_2021_crime_rate = round(ny_2021_crime_rate, 2)\n",
    "\n",
    "sf_2020_crime_rate = round(sf_2020_crime_rate, 2)\n",
    "sf_2021_crime_rate = round(sf_2021_crime_rate, 2)"
   ]
  },
  {
   "cell_type": "code",
   "execution_count": 38,
   "id": "30cbffbd-9a55-44d1-9bc7-f194401861f6",
   "metadata": {},
   "outputs": [
    {
     "data": {
      "image/png": "[encoded data removed]",
      "text/plain": [
       "<Figure size 1000x600 with 1 Axes>"
      ]
     },
     "metadata": {},
     "output_type": "display_data"
    }
   ],
   "source": [
    "# Line plots to show crime rates for each city for 2020-2021\n",
    "x_axis = ([2020, 2021])\n",
    "y1= ([austin_2020_crime_rate, austin_2021_crime_rate])\n",
    "y2= ([chicago_2020_crime_rate, chicago_2021_crime_rate])\n",
    "y3= ([denver_2020_crime_rate, denver_2021_crime_rate])\n",
    "y4= ([memphis_2020_crime_rate, memphis_2021_crime_rate])\n",
    "y5= ([ny_2020_crime_rate, ny_2021_crime_rate])\n",
    "y6= ([sf_2020_crime_rate, sf_2021_crime_rate])\n",
    "plt.figure(figsize=(10,6))\n",
    "plt.plot(x_axis, y1, linewidth=3, label='Austin')\n",
    "plt.plot(x_axis, y2, linewidth=3, label='Chicago')\n",
    "plt.plot(x_axis, y3, linewidth=3, label='Denver')\n",
    "plt.plot(x_axis, y4, linewidth=3, label='Memphis')\n",
    "plt.plot(x_axis, y5, linewidth=3, label='New York City')\n",
    "plt.plot(x_axis, y6, linewidth=3, label='San Francisco')\n",
    "plt.xlabel(\"Years\")\n",
    "plt.xticks(np.arange(2020, 2022, 1.0))\n",
    "plt.ylabel(\"Total Crime Rate\")\n",
    "plt.title(\"Total Crime Rate per City from 2020-2021\")\n",
    "plt.legend(bbox_to_anchor=(1.1, 1.1))\n",
    "plt.savefig('./output_data/totalcrimelinechart.png')"
   ]
  },
  {
   "cell_type": "code",
   "execution_count": null,
   "id": "fca033ca-0546-4e21-9965-db0aa4922deb",
   "metadata": {},
   "outputs": [],
   "source": []
  }
 ],
 "metadata": {
  "kernelspec": {
   "display_name": "Python 3 (ipykernel)",
   "language": "python",
   "name": "python3"
  },
  "language_info": {
   "codemirror_mode": {
    "name": "ipython",
    "version": 3
   },
   "file_extension": ".py",
   "mimetype": "text/x-python",
   "name": "python",
   "nbconvert_exporter": "python",
   "pygments_lexer": "ipython3",
   "version": "3.10.9"
  }
 },
 "nbformat": 4,
 "nbformat_minor": 5
}
