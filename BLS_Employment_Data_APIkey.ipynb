{
 "cells": [
  {
   "cell_type": "code",
   "execution_count": 4,
   "id": "71db2337-bb0b-4128-bf78-8adf9a7696a0",
   "metadata": {},
   "outputs": [],
   "source": [
    "# Dependencies & Setup to work with BLS\n",
    "# Note there is a limit to how many free pulls may be done in a day from BLS: https://www.bls.gov/developers/api_FAQs.htm#register1\n",
    "\n",
    "import requests\n",
    "import json\n",
    "import pandas as pd\n",
    "import matplotlib.pyplot as plt\n",
    "from config import bls_key\n",
    "\n",
    "base_url = 'https://api.bls.gov/publicAPI/v2/timeseries/data/'\n",
    "headers = {'Content-type': 'application/json'}\n",
    "registrationkey = bls_key\n",
    "\n",
    "url = base_url+\"?registrationkey=\"+bls_key\n",
    "\n",
    "# BLS Series IDs are built on a prefix specific to the data series available + location + suffix structure\n",
    "# BLS City codes: \n",
    "city_codes = {\"Austin\":\"CT4805000000000\", \"Chicago\":\"CT1714000000000\", \"Denver\":\"CT0820000000000\", \"Las Vegas\":\"CT3240000000000\",\n",
    "              \"Memphis\":\"CT4748000000000\", \"New York\":\"CT3651000000000\", \"Pittsburgh\":\"CT4261000000000\", \"San Francisco\":\"CT0667000000000\"}\n",
    "# BLS State codes + 00000 for \"all areas\":\n",
    "state_codes = {\"Texas\":\"4800000\", \"Illinois\":\"1700000\", \"Colorado\":\"0800000\", \"Nevada\":\"3200000\", \n",
    "               \"Tennessee\":\"4700000\", \"New York\":\"3600000\", \"Pennsylvania\":\"4200000\", \"California\":\"0600000\"}\n",
    "# prefix codes unadjsted for seasonal periods\n",
    "prefix_codes = {\"Unemployment\":\"LAU\", \"Non-Farm Job Openings\":\"JTU000000\"}\n",
    "# depending on the prefix, the suffix are different lengths and mean different things\n",
    "suffix_codes = {\"Unemployment Rate\":\"03\", \"All Size Job Openings Rate\":\"00R\"}\n",
    "    \n",
    "# BLS queries all have a start and end year input; using constants at this level to have consistent time period reporting\n",
    "startyear = 2020\n",
    "endyear = 2022"
   ]
  },
  {
   "cell_type": "code",
   "execution_count": 6,
   "id": "4a324aa9-f357-465c-9799-51ebbd8a1a89",
   "metadata": {},
   "outputs": [],
   "source": [
    "# Function to request results from BLS\n",
    "# arguments: id_list = list of IDs to query data\n",
    "# returns: json formatted data for the input series\n",
    "\n",
    "def request_bls_results_json(id_list):\n",
    "    data = json.dumps({\"seriesid\":id_list,\"startyear\":startyear, \"endyear\":endyear})\n",
    "    req = requests.post(url, data=data, headers=headers)\n",
    "    data = json.loads(p.text)\n",
    "\n",
    "    # Print response characteristics to identify potential issues such as maximizing allowed queries in a day\n",
    "    print(req)\n",
    "    print(f\"Request Status {data['status']}\")\n",
    "    print(f\"Request Message {data['message']}\")\n",
    "\n",
    "    # Reduce to just the results series of data if it was pulled\n",
    "    try:\n",
    "        data_core = data[\"Results\"][\"series\"]\n",
    "        return(data_core)\n",
    "    except (KeyError, IndexError):\n",
    "        print(\"-----------------------\")\n",
    "        print(\"!! No Data Available !!\")\n",
    "        print(\"-----------------------\")\n",
    "        return(\"\")"
   ]
  },
  {
   "cell_type": "code",
   "execution_count": 7,
   "id": "8f48c81b-020e-435b-a30f-e58964c215e1",
   "metadata": {},
   "outputs": [],
   "source": [
    "# Function to create a DataFrame for Unemployment Rates Over Time\n",
    "# arguments: json_list = downloaded list of results in json format\n",
    "#            loc_dict = dictionary of locations\n",
    "#            loc_start = location start index in Series ID (3, 9)\n",
    "#            loc_end = location end index in Series ID (-2, -5)\n",
    "# returns: data frame with location as header and time periods as index\n",
    "\n",
    "def create_bls_numeric_df(json_list,loc_dict,loc_start,loc_end):\n",
    "    # Create empty lists to hold data collected from json output\n",
    "    loc_list = []\n",
    "    time_periods = []\n",
    "    result_list = []\n",
    "\n",
    "    # Iterate through location data (json data is setup as a list of data by SeriesID (which is includes location))\n",
    "    for i in range(len(json_list)):\n",
    "\n",
    "        # trim the series ID to pull out the location code and programmatically populate location rather than relying on original input staying in same order\n",
    "        loc_value = json_list[i][\"seriesID\"][loc_start:loc_end]\n",
    "        # Reference for pulling dictionary key from known value: https://www.geeksforgeeks.org/python-get-key-from-value-in-dictionary/\n",
    "        loc_key = list(filter(lambda c: loc_dict[c] == loc_value, loc_dict))[0]\n",
    "        loc_list.append(loc_key)\n",
    "        # Setup list for time period and results to be used for single location\n",
    "        tp = []\n",
    "        rl = []\n",
    "        # Pull out the time period and result value storing them in the single location list\n",
    "        for j in range(len(json_list[i][\"data\"])):\n",
    "            th.append(json_list[i][\"data\"][j][\"year\"]+\" \"+json_list[i][\"data\"][j][\"period\"])\n",
    "            rl.append(json_list[i][\"data\"][j][\"value\"])\n",
    "\n",
    "        # Convert the results from string to number\n",
    "        rl_num = list(map(float, rl))\n",
    "\n",
    "        # Reverse lists to be oldest to newest\n",
    "        th_rev = th[::-1]\n",
    "        rl_num_rev = rl_num[::-1]\n",
    "\n",
    "        # Add the single location lists into the overall lists\n",
    "        time_periods.append(th_rev) # This should be the same for each city based on common output\n",
    "        result_list.append(rl_num_rev) # This will be different for each city\n",
    "\n",
    "    # iterate through the city and rate lists as columns to use pandas plot with lines per city\n",
    "    data_dict = {}\n",
    "    for i in range(len(loc_list)):\n",
    "        data_dict[loc_list[i]] = result_list[i]\n",
    "\n",
    "    data_df = pd.DataFrame(data_dict, index=time_periods[0])\n",
    "    return(data_df)"
   ]
  },
  {
   "cell_type": "code",
   "execution_count": 8,
   "id": "cde3e71f-6d03-40e6-a1d7-9b34a1b03e49",
   "metadata": {
    "tags": []
   },
   "outputs": [
    {
     "name": "stdout",
     "output_type": "stream",
     "text": [
      "<Response [200]>\n",
      "Request Status REQUEST_NOT_PROCESSED\n",
      "Request Message ['Request could not be serviced, as the daily threshold for total number of requests allocated to the user with registration key  has been reached.']\n",
      "No Data Available!\n"
     ]
    }
   ],
   "source": [
    "# Request Unemployment Rate (a monthly output by year by city, county, state, area depending on your ID)\n",
    "\n",
    "# Create list of Series IDs for unemployment rate\n",
    "unemp_series = []\n",
    "for city in city_codes:\n",
    "    unemp_series.append(prefix_codes[\"Unemployment\"] + city_codes[city] + suffix_codes[\"Unemployment Rate\"])\n",
    "\n",
    "# Call function to get json results\n",
    "unemp_data_results = request_bls_results_json(unemp_series)"
   ]
  },
  {
   "cell_type": "code",
   "execution_count": null,
   "id": "35b2ec03-a0eb-4446-962c-ae8f7b14c41e",
   "metadata": {},
   "outputs": [],
   "source": [
    "# Create a DataFrame for Unemployment Rates Over Time\n",
    "loc_start = 3  # Unemployment prefix is 3 letter\n",
    "loc_end = -2   # Unemployment suffix is 2 letters\n",
    "\n",
    "unemp_df = create_bls_numeric_df(unemp_data_results,city_codes,loc_start,loc_end)"
   ]
  },
  {
   "cell_type": "code",
   "execution_count": null,
   "id": "7c43651a-3066-4eeb-b1cd-c44a840e21d8",
   "metadata": {},
   "outputs": [],
   "source": [
    "# Create plot with legend to the side of the plot\n",
    "unemp_plot = unemp_df.plot.line(figsize=(10, 5), xlabel=\"Month\", ylabel=\"Unemployment Rate (%)\", title=\"Unemployment Rate Over Time\")\n",
    "plt.legend(bbox_to_anchor=(1.05,1.0), loc=\"upper left\")\n",
    "plt.show()"
   ]
  },
  {
   "cell_type": "code",
   "execution_count": null,
   "id": "15f146df-012e-405d-9c58-48b55730bd5f",
   "metadata": {},
   "outputs": [],
   "source": [
    "# Request Job Opening Rate (a monthly output by year by city, county, state, area depending on your ID)\n",
    "\n",
    "# Create list of Series IDs for job openings rate (only at state level)\n",
    "jobopen_series = []\n",
    "for state in state_codes:\n",
    "    jobopen_series.append(prefix_codes[\"Non-Farm Job Openings\"] + state_codes[state] + suffix_codes[\"All Size Job Openings Rate\"])\n",
    "\n",
    "# Call function to get json results\n",
    "jobopen_data_results = request_bls_results_json(jobopen_series)"
   ]
  },
  {
   "cell_type": "code",
   "execution_count": null,
   "id": "3956499c-de9b-478b-b2da-8b01a837a72c",
   "metadata": {},
   "outputs": [],
   "source": [
    "# Create a DataFrame for Job Opening Rates Over Time\n",
    "loc_start = 9  # Unemployment prefix is 9 letter\n",
    "loc_end = -5   # Unemployment suffix is 5 letters\n",
    "\n",
    "jobopen_df = create_bls_numeric_df(jobopen_data_results,state_codes,loc_start,loc_end)"
   ]
  },
  {
   "cell_type": "code",
   "execution_count": null,
   "id": "923062f4-cfcf-4ff6-90b1-3738cf53b3e7",
   "metadata": {},
   "outputs": [],
   "source": [
    "# Create plot with legend to the side of the plot\n",
    "jobopen_plot = jobopen_df.plot.line(figsize=(10, 5), xlabel=\"Month\", ylabel=\"Job Openings Rate (%)\", title=\"Non-Farm Job Openings Rate Over Time\")\n",
    "plt.legend(bbox_to_anchor=(1.05,1.0), loc=\"upper left\")\n",
    "plt.show()"
   ]
  }
 ],
 "metadata": {
  "kernelspec": {
   "display_name": "Python 3 (ipykernel)",
   "language": "python",
   "name": "python3"
  },
  "language_info": {
   "codemirror_mode": {
    "name": "ipython",
    "version": 3
   },
   "file_extension": ".py",
   "mimetype": "text/x-python",
   "name": "python",
   "nbconvert_exporter": "python",
   "pygments_lexer": "ipython3",
   "version": "3.10.11"
  }
 },
 "nbformat": 4,
 "nbformat_minor": 5
}
